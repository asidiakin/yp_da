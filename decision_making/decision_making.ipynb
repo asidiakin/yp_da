{
 "cells": [
  {
   "cell_type": "markdown",
   "metadata": {},
   "source": [
    "# Принятие решений в бизнесе"
   ]
  },
  {
   "cell_type": "markdown",
   "metadata": {},
   "source": [
    "**Описание проекта:**  \n",
    "Я - аналитик крупного интернет-магазина. Вместе с отделом маркетинга я подготовил список гипотез для увеличения выручки.\n",
    "\n",
    "**Цель:**  \n",
    "На основании анализа результатов A/B-теста порекомендовать пути увеличения выручки компании.\n",
    "\n",
    "**Основные задачи:**  \n",
    "1. Приоритизировать гипотезы;\n",
    "2. Запустить A/B-тест и проанализировать результаты.\n",
    "\n",
    "**Этапы работы:**\n",
    "1. Приоритизация гипотез;\n",
    "2. Анализ A/B-теста и принятие решения по его результатам."
   ]
  },
  {
   "cell_type": "markdown",
   "metadata": {},
   "source": [
    "## 1. Приоритизация гипотез"
   ]
  },
  {
   "cell_type": "markdown",
   "metadata": {},
   "source": [
    "**Пути к файлам:**  \n",
    "- `/datasets/hypothesis.csv`\n",
    "- `/datasets/orders.csv`\n",
    "- `/datasets/visitors.csv`\n",
    "\n",
    "**Описание данных:**  \n",
    "*Таблица `hypothesis` (данные по гипотезам для приоритезации)*:  \n",
    "* `Hypothesis` - краткое описание гипотезы;\n",
    "* `Reach` - охват пользователей по 10-балльной шкале;\n",
    "* `Impact` - влияние на пользователей по 10-балльной шкале;\n",
    "* `Confidence` - уверенность в гипотезе по 10-балльной шкале;\n",
    "* `Efforts` - затраты ресурсов на проверку гипотезы по 10-балльной шкале (чем больше значение Efforts, тем дороже проверка гипотезы).\n",
    "    \n",
    "*Таблица `orders` (данные по заказам для A/B-теста)*:\n",
    "* `transactionId` - идентификатор заказа;\n",
    "* `visitorId` - идентификатор пользователя, совершившего заказ;\n",
    "* `date` - дата, когда был совершён заказ;\n",
    "* `revenue` - выручка заказа;\n",
    "* `group` - группа A/B-теста, в которую попал заказ.\n",
    "\n",
    "*Таблица `visitors` (данные по кол-ву пользователей в указанную дату для A/B-теста)*:\n",
    "* `date` - дата;\n",
    "* `group` - группа A/B-теста;\n",
    "* `visitors` - количество пользователей в указанную дату в указанной группе A/B-теста."
   ]
  },
  {
   "cell_type": "markdown",
   "metadata": {},
   "source": [
    "В файле `hypothesis.csv` 9 гипотез по увеличению выручки интернет-магазина с указанными параметрами `Reach`, `Impact`, `Confidence`, `Effort`."
   ]
  },
  {
   "cell_type": "markdown",
   "metadata": {},
   "source": [
    "Загрузим библиотеки:"
   ]
  },
  {
   "cell_type": "code",
   "execution_count": 1,
   "metadata": {},
   "outputs": [],
   "source": [
    "import pandas as pd\n",
    "import numpy as np\n",
    "import scipy.stats as stats\n",
    "import matplotlib.pyplot as plt\n",
    "import warnings"
   ]
  },
  {
   "cell_type": "markdown",
   "metadata": {},
   "source": [
    "Откроем таблицу `hypothesis`:"
   ]
  },
  {
   "cell_type": "code",
   "execution_count": 2,
   "metadata": {},
   "outputs": [],
   "source": [
    "try:\n",
    "    hypothesis = pd.read_csv('/datasets/hypothesis.csv')\n",
    "except:\n",
    "    hypothesis = pd.read_csv(r'C:\\Users\\sidya\\Docs\\Jupiter\\Datasets\\hypothesis.csv')"
   ]
  },
  {
   "cell_type": "markdown",
   "metadata": {},
   "source": [
    "Отобразим полное название гипотез и приведем название колонок к нижнему регистру:"
   ]
  },
  {
   "cell_type": "code",
   "execution_count": 3,
   "metadata": {},
   "outputs": [],
   "source": [
    "pd.set_option('display.max_colwidth', None)"
   ]
  },
  {
   "cell_type": "code",
   "execution_count": 4,
   "metadata": {},
   "outputs": [
    {
     "data": {
      "text/html": [
       "<div>\n",
       "<style scoped>\n",
       "    .dataframe tbody tr th:only-of-type {\n",
       "        vertical-align: middle;\n",
       "    }\n",
       "\n",
       "    .dataframe tbody tr th {\n",
       "        vertical-align: top;\n",
       "    }\n",
       "\n",
       "    .dataframe thead th {\n",
       "        text-align: right;\n",
       "    }\n",
       "</style>\n",
       "<table border=\"1\" class=\"dataframe\">\n",
       "  <thead>\n",
       "    <tr style=\"text-align: right;\">\n",
       "      <th></th>\n",
       "      <th>hypothesis</th>\n",
       "      <th>reach</th>\n",
       "      <th>impact</th>\n",
       "      <th>confidence</th>\n",
       "      <th>efforts</th>\n",
       "    </tr>\n",
       "  </thead>\n",
       "  <tbody>\n",
       "    <tr>\n",
       "      <th>0</th>\n",
       "      <td>Добавить два новых канала привлечения трафика, что позволит привлекать на 30% больше пользователей</td>\n",
       "      <td>3</td>\n",
       "      <td>10</td>\n",
       "      <td>8</td>\n",
       "      <td>6</td>\n",
       "    </tr>\n",
       "    <tr>\n",
       "      <th>1</th>\n",
       "      <td>Запустить собственную службу доставки, что сократит срок доставки заказов</td>\n",
       "      <td>2</td>\n",
       "      <td>5</td>\n",
       "      <td>4</td>\n",
       "      <td>10</td>\n",
       "    </tr>\n",
       "    <tr>\n",
       "      <th>2</th>\n",
       "      <td>Добавить блоки рекомендаций товаров на сайт интернет магазина, чтобы повысить конверсию и средний чек заказа</td>\n",
       "      <td>8</td>\n",
       "      <td>3</td>\n",
       "      <td>7</td>\n",
       "      <td>3</td>\n",
       "    </tr>\n",
       "    <tr>\n",
       "      <th>3</th>\n",
       "      <td>Изменить структура категорий, что увеличит конверсию, т.к. пользователи быстрее найдут нужный товар</td>\n",
       "      <td>8</td>\n",
       "      <td>3</td>\n",
       "      <td>3</td>\n",
       "      <td>8</td>\n",
       "    </tr>\n",
       "    <tr>\n",
       "      <th>4</th>\n",
       "      <td>Изменить цвет фона главной страницы, чтобы увеличить вовлеченность пользователей</td>\n",
       "      <td>3</td>\n",
       "      <td>1</td>\n",
       "      <td>1</td>\n",
       "      <td>1</td>\n",
       "    </tr>\n",
       "    <tr>\n",
       "      <th>5</th>\n",
       "      <td>Добавить страницу отзывов клиентов о магазине, что позволит увеличить количество заказов</td>\n",
       "      <td>3</td>\n",
       "      <td>2</td>\n",
       "      <td>2</td>\n",
       "      <td>3</td>\n",
       "    </tr>\n",
       "    <tr>\n",
       "      <th>6</th>\n",
       "      <td>Показать на главной странице баннеры с актуальными акциями и распродажами, чтобы увеличить конверсию</td>\n",
       "      <td>5</td>\n",
       "      <td>3</td>\n",
       "      <td>8</td>\n",
       "      <td>3</td>\n",
       "    </tr>\n",
       "    <tr>\n",
       "      <th>7</th>\n",
       "      <td>Добавить форму подписки на все основные страницы, чтобы собрать базу клиентов для email-рассылок</td>\n",
       "      <td>10</td>\n",
       "      <td>7</td>\n",
       "      <td>8</td>\n",
       "      <td>5</td>\n",
       "    </tr>\n",
       "    <tr>\n",
       "      <th>8</th>\n",
       "      <td>Запустить акцию, дающую скидку на товар в день рождения</td>\n",
       "      <td>1</td>\n",
       "      <td>9</td>\n",
       "      <td>9</td>\n",
       "      <td>5</td>\n",
       "    </tr>\n",
       "  </tbody>\n",
       "</table>\n",
       "</div>"
      ],
      "text/plain": [
       "                                                                                                     hypothesis  \\\n",
       "0            Добавить два новых канала привлечения трафика, что позволит привлекать на 30% больше пользователей   \n",
       "1                                     Запустить собственную службу доставки, что сократит срок доставки заказов   \n",
       "2  Добавить блоки рекомендаций товаров на сайт интернет магазина, чтобы повысить конверсию и средний чек заказа   \n",
       "3           Изменить структура категорий, что увеличит конверсию, т.к. пользователи быстрее найдут нужный товар   \n",
       "4                              Изменить цвет фона главной страницы, чтобы увеличить вовлеченность пользователей   \n",
       "5                      Добавить страницу отзывов клиентов о магазине, что позволит увеличить количество заказов   \n",
       "6          Показать на главной странице баннеры с актуальными акциями и распродажами, чтобы увеличить конверсию   \n",
       "7              Добавить форму подписки на все основные страницы, чтобы собрать базу клиентов для email-рассылок   \n",
       "8                                                       Запустить акцию, дающую скидку на товар в день рождения   \n",
       "\n",
       "   reach  impact  confidence  efforts  \n",
       "0      3      10           8        6  \n",
       "1      2       5           4       10  \n",
       "2      8       3           7        3  \n",
       "3      8       3           3        8  \n",
       "4      3       1           1        1  \n",
       "5      3       2           2        3  \n",
       "6      5       3           8        3  \n",
       "7     10       7           8        5  \n",
       "8      1       9           9        5  "
      ]
     },
     "metadata": {},
     "output_type": "display_data"
    }
   ],
   "source": [
    "hypothesis.columns = hypothesis.columns.str.lower()\n",
    "display(hypothesis)"
   ]
  },
  {
   "cell_type": "markdown",
   "metadata": {},
   "source": [
    "### 1.1. Применение фреймворка `ICE`"
   ]
  },
  {
   "cell_type": "code",
   "execution_count": 5,
   "metadata": {},
   "outputs": [
    {
     "data": {
      "text/html": [
       "<div>\n",
       "<style scoped>\n",
       "    .dataframe tbody tr th:only-of-type {\n",
       "        vertical-align: middle;\n",
       "    }\n",
       "\n",
       "    .dataframe tbody tr th {\n",
       "        vertical-align: top;\n",
       "    }\n",
       "\n",
       "    .dataframe thead th {\n",
       "        text-align: right;\n",
       "    }\n",
       "</style>\n",
       "<table border=\"1\" class=\"dataframe\">\n",
       "  <thead>\n",
       "    <tr style=\"text-align: right;\">\n",
       "      <th></th>\n",
       "      <th>hypothesis</th>\n",
       "      <th>ICE</th>\n",
       "    </tr>\n",
       "  </thead>\n",
       "  <tbody>\n",
       "    <tr>\n",
       "      <th>8</th>\n",
       "      <td>Запустить акцию, дающую скидку на товар в день рождения</td>\n",
       "      <td>16.200000</td>\n",
       "    </tr>\n",
       "    <tr>\n",
       "      <th>0</th>\n",
       "      <td>Добавить два новых канала привлечения трафика, что позволит привлекать на 30% больше пользователей</td>\n",
       "      <td>13.333333</td>\n",
       "    </tr>\n",
       "    <tr>\n",
       "      <th>7</th>\n",
       "      <td>Добавить форму подписки на все основные страницы, чтобы собрать базу клиентов для email-рассылок</td>\n",
       "      <td>11.200000</td>\n",
       "    </tr>\n",
       "    <tr>\n",
       "      <th>6</th>\n",
       "      <td>Показать на главной странице баннеры с актуальными акциями и распродажами, чтобы увеличить конверсию</td>\n",
       "      <td>8.000000</td>\n",
       "    </tr>\n",
       "    <tr>\n",
       "      <th>2</th>\n",
       "      <td>Добавить блоки рекомендаций товаров на сайт интернет магазина, чтобы повысить конверсию и средний чек заказа</td>\n",
       "      <td>7.000000</td>\n",
       "    </tr>\n",
       "    <tr>\n",
       "      <th>1</th>\n",
       "      <td>Запустить собственную службу доставки, что сократит срок доставки заказов</td>\n",
       "      <td>2.000000</td>\n",
       "    </tr>\n",
       "    <tr>\n",
       "      <th>5</th>\n",
       "      <td>Добавить страницу отзывов клиентов о магазине, что позволит увеличить количество заказов</td>\n",
       "      <td>1.333333</td>\n",
       "    </tr>\n",
       "    <tr>\n",
       "      <th>3</th>\n",
       "      <td>Изменить структура категорий, что увеличит конверсию, т.к. пользователи быстрее найдут нужный товар</td>\n",
       "      <td>1.125000</td>\n",
       "    </tr>\n",
       "    <tr>\n",
       "      <th>4</th>\n",
       "      <td>Изменить цвет фона главной страницы, чтобы увеличить вовлеченность пользователей</td>\n",
       "      <td>1.000000</td>\n",
       "    </tr>\n",
       "  </tbody>\n",
       "</table>\n",
       "</div>"
      ],
      "text/plain": [
       "                                                                                                     hypothesis  \\\n",
       "8                                                       Запустить акцию, дающую скидку на товар в день рождения   \n",
       "0            Добавить два новых канала привлечения трафика, что позволит привлекать на 30% больше пользователей   \n",
       "7              Добавить форму подписки на все основные страницы, чтобы собрать базу клиентов для email-рассылок   \n",
       "6          Показать на главной странице баннеры с актуальными акциями и распродажами, чтобы увеличить конверсию   \n",
       "2  Добавить блоки рекомендаций товаров на сайт интернет магазина, чтобы повысить конверсию и средний чек заказа   \n",
       "1                                     Запустить собственную службу доставки, что сократит срок доставки заказов   \n",
       "5                      Добавить страницу отзывов клиентов о магазине, что позволит увеличить количество заказов   \n",
       "3           Изменить структура категорий, что увеличит конверсию, т.к. пользователи быстрее найдут нужный товар   \n",
       "4                              Изменить цвет фона главной страницы, чтобы увеличить вовлеченность пользователей   \n",
       "\n",
       "         ICE  \n",
       "8  16.200000  \n",
       "0  13.333333  \n",
       "7  11.200000  \n",
       "6   8.000000  \n",
       "2   7.000000  \n",
       "1   2.000000  \n",
       "5   1.333333  \n",
       "3   1.125000  \n",
       "4   1.000000  "
      ]
     },
     "execution_count": 5,
     "metadata": {},
     "output_type": "execute_result"
    }
   ],
   "source": [
    "hypothesis['ICE'] = (hypothesis['impact'] * hypothesis['confidence']) / hypothesis['efforts']\n",
    "hypothesis[['hypothesis','ICE']].sort_values(by='ICE', ascending=False)"
   ]
  },
  {
   "cell_type": "markdown",
   "metadata": {},
   "source": [
    "*Как мы видим из отсортированной по `ICE` таблице наиболее перспективные гипотезы в порядке убывания:*  \n",
    "* *Запустить акцию, дающую скидку на товар в день рождения;*   \n",
    "* *Добавить два новых канала привлечения трафика, что позволит привлекать на 30% больше пользователей;*  \n",
    "* *Добавить форму подписки на все основные страницы, чтобы собрать базу клиентов для email-рассылок.*"
   ]
  },
  {
   "cell_type": "markdown",
   "metadata": {},
   "source": [
    "### 1.2. Применение фреймворка `RICE`"
   ]
  },
  {
   "cell_type": "code",
   "execution_count": 6,
   "metadata": {},
   "outputs": [
    {
     "data": {
      "text/html": [
       "<div>\n",
       "<style scoped>\n",
       "    .dataframe tbody tr th:only-of-type {\n",
       "        vertical-align: middle;\n",
       "    }\n",
       "\n",
       "    .dataframe tbody tr th {\n",
       "        vertical-align: top;\n",
       "    }\n",
       "\n",
       "    .dataframe thead th {\n",
       "        text-align: right;\n",
       "    }\n",
       "</style>\n",
       "<table border=\"1\" class=\"dataframe\">\n",
       "  <thead>\n",
       "    <tr style=\"text-align: right;\">\n",
       "      <th></th>\n",
       "      <th>hypothesis</th>\n",
       "      <th>RICE</th>\n",
       "    </tr>\n",
       "  </thead>\n",
       "  <tbody>\n",
       "    <tr>\n",
       "      <th>7</th>\n",
       "      <td>Добавить форму подписки на все основные страницы, чтобы собрать базу клиентов для email-рассылок</td>\n",
       "      <td>112.0</td>\n",
       "    </tr>\n",
       "    <tr>\n",
       "      <th>2</th>\n",
       "      <td>Добавить блоки рекомендаций товаров на сайт интернет магазина, чтобы повысить конверсию и средний чек заказа</td>\n",
       "      <td>56.0</td>\n",
       "    </tr>\n",
       "    <tr>\n",
       "      <th>0</th>\n",
       "      <td>Добавить два новых канала привлечения трафика, что позволит привлекать на 30% больше пользователей</td>\n",
       "      <td>40.0</td>\n",
       "    </tr>\n",
       "    <tr>\n",
       "      <th>6</th>\n",
       "      <td>Показать на главной странице баннеры с актуальными акциями и распродажами, чтобы увеличить конверсию</td>\n",
       "      <td>40.0</td>\n",
       "    </tr>\n",
       "    <tr>\n",
       "      <th>8</th>\n",
       "      <td>Запустить акцию, дающую скидку на товар в день рождения</td>\n",
       "      <td>16.2</td>\n",
       "    </tr>\n",
       "    <tr>\n",
       "      <th>3</th>\n",
       "      <td>Изменить структура категорий, что увеличит конверсию, т.к. пользователи быстрее найдут нужный товар</td>\n",
       "      <td>9.0</td>\n",
       "    </tr>\n",
       "    <tr>\n",
       "      <th>1</th>\n",
       "      <td>Запустить собственную службу доставки, что сократит срок доставки заказов</td>\n",
       "      <td>4.0</td>\n",
       "    </tr>\n",
       "    <tr>\n",
       "      <th>5</th>\n",
       "      <td>Добавить страницу отзывов клиентов о магазине, что позволит увеличить количество заказов</td>\n",
       "      <td>4.0</td>\n",
       "    </tr>\n",
       "    <tr>\n",
       "      <th>4</th>\n",
       "      <td>Изменить цвет фона главной страницы, чтобы увеличить вовлеченность пользователей</td>\n",
       "      <td>3.0</td>\n",
       "    </tr>\n",
       "  </tbody>\n",
       "</table>\n",
       "</div>"
      ],
      "text/plain": [
       "                                                                                                     hypothesis  \\\n",
       "7              Добавить форму подписки на все основные страницы, чтобы собрать базу клиентов для email-рассылок   \n",
       "2  Добавить блоки рекомендаций товаров на сайт интернет магазина, чтобы повысить конверсию и средний чек заказа   \n",
       "0            Добавить два новых канала привлечения трафика, что позволит привлекать на 30% больше пользователей   \n",
       "6          Показать на главной странице баннеры с актуальными акциями и распродажами, чтобы увеличить конверсию   \n",
       "8                                                       Запустить акцию, дающую скидку на товар в день рождения   \n",
       "3           Изменить структура категорий, что увеличит конверсию, т.к. пользователи быстрее найдут нужный товар   \n",
       "1                                     Запустить собственную службу доставки, что сократит срок доставки заказов   \n",
       "5                      Добавить страницу отзывов клиентов о магазине, что позволит увеличить количество заказов   \n",
       "4                              Изменить цвет фона главной страницы, чтобы увеличить вовлеченность пользователей   \n",
       "\n",
       "    RICE  \n",
       "7  112.0  \n",
       "2   56.0  \n",
       "0   40.0  \n",
       "6   40.0  \n",
       "8   16.2  \n",
       "3    9.0  \n",
       "1    4.0  \n",
       "5    4.0  \n",
       "4    3.0  "
      ]
     },
     "execution_count": 6,
     "metadata": {},
     "output_type": "execute_result"
    }
   ],
   "source": [
    "hypothesis['RICE'] = ((hypothesis['reach'] * hypothesis['impact'] * hypothesis['confidence'])\n",
    "                      / hypothesis['efforts'])\n",
    "hypothesis[['hypothesis','RICE']].sort_values(by='RICE', ascending=False)"
   ]
  },
  {
   "cell_type": "markdown",
   "metadata": {},
   "source": [
    "*После применения фреймворка `RICE` очередность кардинально изменилась, теперь следующие гипотезы на первых трех местах:*  \n",
    "* *Добавить форму подписки на все основные страницы, чтобы собрать базу клиентов для email-рассылок;*   \n",
    "* *Добавить блоки рекомендаций товаров на сайт интернет магазина, чтобы повысить конверсию и средний чек заказа;*  \n",
    "* *Добавить два новых канала привлечения трафика, что позволит привлекать на 30% больше пользователей.*  \n",
    "\n",
    "*Видимо, охват пользователей значительно повлиял на результат.*"
   ]
  },
  {
   "cell_type": "markdown",
   "metadata": {},
   "source": [
    "### 1.3. Как изменилась приоритизация гипотез при применении` RICE` вместо `ICE`?"
   ]
  },
  {
   "cell_type": "markdown",
   "metadata": {},
   "source": [
    "* Отличительная особенность фреймворка `RICE` от `ICE` в том, что в формулу расчета `ICE` не входит параметр охвата `reach` (масштаб пользователей, которых затронет изменение).  \n",
    "Из-за самого высокого показателя `reach` из гипотез у гипотезы `\"добавить форму подписки на все основные страницы, чтобы собрать базу клиентов для email-рассылок\"`(10 баллов из 10) в отличие от гипотезы `\"запустить акцию, дающую скидку на товар в день рождения\"` (1 балл из 10) смещение произошло в ее сторону. Это логично, так как масшаб ее применения значительно выше.  \n",
    "* Гипотеза `\"добавить два новых канала привлечения трафика, что позволит привлекать на 30% больше пользователей\"` перешла со второго места на третье. Гипотеза `\"добавить блоки рекомендаций товаров на сайт интернет магазина, чтобы повысить конверсию и средний чек заказа\"` наоборот поднялась в списке на второе место."
   ]
  },
  {
   "cell_type": "markdown",
   "metadata": {},
   "source": [
    "## 2. Анализ A/B-теста"
   ]
  },
  {
   "cell_type": "markdown",
   "metadata": {},
   "source": [
    "Мы провели A/B-тест и получили результаты, которые описаны в файлах `orders.csv` и `visitors.csv`.\n",
    "Теперь необходимо их проанализировать."
   ]
  },
  {
   "cell_type": "markdown",
   "metadata": {},
   "source": [
    "**Начнем с таблицы `orders`:**"
   ]
  },
  {
   "cell_type": "code",
   "execution_count": 7,
   "metadata": {},
   "outputs": [],
   "source": [
    "try:\n",
    "    orders = pd.read_csv('/datasets/orders.csv')\n",
    "except:\n",
    "    orders = pd.read_csv(r'C:\\Users\\sidya\\Docs\\Jupiter\\Datasets\\orders.csv')"
   ]
  },
  {
   "cell_type": "markdown",
   "metadata": {},
   "source": [
    "Создадим функцию для удобства применения и выведем ее результат:"
   ]
  },
  {
   "cell_type": "code",
   "execution_count": 8,
   "metadata": {
    "scrolled": false
   },
   "outputs": [],
   "source": [
    "def start(data):\n",
    "    print(data.info())\n",
    "    display(data.head())\n",
    "    print(f'Размер датасета составляет: {data.shape}')\n",
    "    display(pd.DataFrame(data.isna().mean(), columns=['NaNs']).style.format('{:.2%}'))"
   ]
  },
  {
   "cell_type": "code",
   "execution_count": 9,
   "metadata": {},
   "outputs": [
    {
     "name": "stdout",
     "output_type": "stream",
     "text": [
      "<class 'pandas.core.frame.DataFrame'>\n",
      "RangeIndex: 1197 entries, 0 to 1196\n",
      "Data columns (total 5 columns):\n",
      " #   Column         Non-Null Count  Dtype \n",
      "---  ------         --------------  ----- \n",
      " 0   transactionId  1197 non-null   int64 \n",
      " 1   visitorId      1197 non-null   int64 \n",
      " 2   date           1197 non-null   object\n",
      " 3   revenue        1197 non-null   int64 \n",
      " 4   group          1197 non-null   object\n",
      "dtypes: int64(3), object(2)\n",
      "memory usage: 46.9+ KB\n",
      "None\n"
     ]
    },
    {
     "data": {
      "text/html": [
       "<div>\n",
       "<style scoped>\n",
       "    .dataframe tbody tr th:only-of-type {\n",
       "        vertical-align: middle;\n",
       "    }\n",
       "\n",
       "    .dataframe tbody tr th {\n",
       "        vertical-align: top;\n",
       "    }\n",
       "\n",
       "    .dataframe thead th {\n",
       "        text-align: right;\n",
       "    }\n",
       "</style>\n",
       "<table border=\"1\" class=\"dataframe\">\n",
       "  <thead>\n",
       "    <tr style=\"text-align: right;\">\n",
       "      <th></th>\n",
       "      <th>transactionId</th>\n",
       "      <th>visitorId</th>\n",
       "      <th>date</th>\n",
       "      <th>revenue</th>\n",
       "      <th>group</th>\n",
       "    </tr>\n",
       "  </thead>\n",
       "  <tbody>\n",
       "    <tr>\n",
       "      <th>0</th>\n",
       "      <td>3667963787</td>\n",
       "      <td>3312258926</td>\n",
       "      <td>2019-08-15</td>\n",
       "      <td>1650</td>\n",
       "      <td>B</td>\n",
       "    </tr>\n",
       "    <tr>\n",
       "      <th>1</th>\n",
       "      <td>2804400009</td>\n",
       "      <td>3642806036</td>\n",
       "      <td>2019-08-15</td>\n",
       "      <td>730</td>\n",
       "      <td>B</td>\n",
       "    </tr>\n",
       "    <tr>\n",
       "      <th>2</th>\n",
       "      <td>2961555356</td>\n",
       "      <td>4069496402</td>\n",
       "      <td>2019-08-15</td>\n",
       "      <td>400</td>\n",
       "      <td>A</td>\n",
       "    </tr>\n",
       "    <tr>\n",
       "      <th>3</th>\n",
       "      <td>3797467345</td>\n",
       "      <td>1196621759</td>\n",
       "      <td>2019-08-15</td>\n",
       "      <td>9759</td>\n",
       "      <td>B</td>\n",
       "    </tr>\n",
       "    <tr>\n",
       "      <th>4</th>\n",
       "      <td>2282983706</td>\n",
       "      <td>2322279887</td>\n",
       "      <td>2019-08-15</td>\n",
       "      <td>2308</td>\n",
       "      <td>B</td>\n",
       "    </tr>\n",
       "  </tbody>\n",
       "</table>\n",
       "</div>"
      ],
      "text/plain": [
       "   transactionId   visitorId        date  revenue group\n",
       "0     3667963787  3312258926  2019-08-15     1650     B\n",
       "1     2804400009  3642806036  2019-08-15      730     B\n",
       "2     2961555356  4069496402  2019-08-15      400     A\n",
       "3     3797467345  1196621759  2019-08-15     9759     B\n",
       "4     2282983706  2322279887  2019-08-15     2308     B"
      ]
     },
     "metadata": {},
     "output_type": "display_data"
    },
    {
     "name": "stdout",
     "output_type": "stream",
     "text": [
      "Размер датасета составляет: (1197, 5)\n"
     ]
    },
    {
     "data": {
      "text/html": [
       "<style type=\"text/css\">\n",
       "</style>\n",
       "<table id=\"T_5899a\">\n",
       "  <thead>\n",
       "    <tr>\n",
       "      <th class=\"blank level0\" >&nbsp;</th>\n",
       "      <th id=\"T_5899a_level0_col0\" class=\"col_heading level0 col0\" >NaNs</th>\n",
       "    </tr>\n",
       "  </thead>\n",
       "  <tbody>\n",
       "    <tr>\n",
       "      <th id=\"T_5899a_level0_row0\" class=\"row_heading level0 row0\" >transactionId</th>\n",
       "      <td id=\"T_5899a_row0_col0\" class=\"data row0 col0\" >0.00%</td>\n",
       "    </tr>\n",
       "    <tr>\n",
       "      <th id=\"T_5899a_level0_row1\" class=\"row_heading level0 row1\" >visitorId</th>\n",
       "      <td id=\"T_5899a_row1_col0\" class=\"data row1 col0\" >0.00%</td>\n",
       "    </tr>\n",
       "    <tr>\n",
       "      <th id=\"T_5899a_level0_row2\" class=\"row_heading level0 row2\" >date</th>\n",
       "      <td id=\"T_5899a_row2_col0\" class=\"data row2 col0\" >0.00%</td>\n",
       "    </tr>\n",
       "    <tr>\n",
       "      <th id=\"T_5899a_level0_row3\" class=\"row_heading level0 row3\" >revenue</th>\n",
       "      <td id=\"T_5899a_row3_col0\" class=\"data row3 col0\" >0.00%</td>\n",
       "    </tr>\n",
       "    <tr>\n",
       "      <th id=\"T_5899a_level0_row4\" class=\"row_heading level0 row4\" >group</th>\n",
       "      <td id=\"T_5899a_row4_col0\" class=\"data row4 col0\" >0.00%</td>\n",
       "    </tr>\n",
       "  </tbody>\n",
       "</table>\n"
      ],
      "text/plain": [
       "<pandas.io.formats.style.Styler at 0x21ecbf85550>"
      ]
     },
     "metadata": {},
     "output_type": "display_data"
    }
   ],
   "source": [
    "start(orders)"
   ]
  },
  {
   "cell_type": "markdown",
   "metadata": {},
   "source": [
    "*Датафрейм не содержит пропусков, однако формат времени требует обработки.*"
   ]
  },
  {
   "cell_type": "markdown",
   "metadata": {},
   "source": [
    "Преобразуем тип значений в колонке \"date\" и заменим названия некоторых столбцов:"
   ]
  },
  {
   "cell_type": "code",
   "execution_count": 10,
   "metadata": {
    "scrolled": true
   },
   "outputs": [
    {
     "name": "stdout",
     "output_type": "stream",
     "text": [
      "<class 'pandas.core.frame.DataFrame'>\n",
      "RangeIndex: 1197 entries, 0 to 1196\n",
      "Data columns (total 5 columns):\n",
      " #   Column          Non-Null Count  Dtype         \n",
      "---  ------          --------------  -----         \n",
      " 0   transaction_id  1197 non-null   int64         \n",
      " 1   visitor_id      1197 non-null   int64         \n",
      " 2   date            1197 non-null   datetime64[ns]\n",
      " 3   revenue         1197 non-null   int64         \n",
      " 4   group           1197 non-null   object        \n",
      "dtypes: datetime64[ns](1), int64(3), object(1)\n",
      "memory usage: 46.9+ KB\n"
     ]
    }
   ],
   "source": [
    "orders['date'] = pd.to_datetime(orders['date'])\n",
    "orders.rename(columns={'transactionId': 'transaction_id', 'visitorId': 'visitor_id'}, inplace=True)\n",
    "orders.info()"
   ]
  },
  {
   "cell_type": "markdown",
   "metadata": {},
   "source": [
    "Проверим датафрейм на наличие дубликатов:"
   ]
  },
  {
   "cell_type": "code",
   "execution_count": 11,
   "metadata": {},
   "outputs": [
    {
     "name": "stdout",
     "output_type": "stream",
     "text": [
      "Количество полных дубликатов: 0\n"
     ]
    }
   ],
   "source": [
    "print('Количество полных дубликатов:', orders.duplicated().sum())"
   ]
  },
  {
   "cell_type": "markdown",
   "metadata": {},
   "source": [
    "А также покупки и пользователей на уникальность:"
   ]
  },
  {
   "cell_type": "code",
   "execution_count": 12,
   "metadata": {},
   "outputs": [
    {
     "name": "stdout",
     "output_type": "stream",
     "text": [
      "Количество уникальных покупок: 1197\n",
      "Количество пользователей: 1031\n"
     ]
    }
   ],
   "source": [
    "print('Количество уникальных покупок:', orders['transaction_id'].nunique())\n",
    "print('Количество пользователей:', orders['visitor_id'].nunique())"
   ]
  },
  {
   "cell_type": "markdown",
   "metadata": {},
   "source": [
    "*Все покупки уникальны, некоторые пользователи совершили несколько покупок.*"
   ]
  },
  {
   "cell_type": "markdown",
   "metadata": {},
   "source": [
    "А какова ситуация по группам?"
   ]
  },
  {
   "cell_type": "code",
   "execution_count": 13,
   "metadata": {
    "scrolled": true
   },
   "outputs": [
    {
     "name": "stdout",
     "output_type": "stream",
     "text": [
      "Количество заказов в группе A: 557\n",
      "Количество заказов в группе В: 640\n"
     ]
    }
   ],
   "source": [
    "print('Количество заказов в группе A:', len(orders[orders['group'] == 'A']))\n",
    "print('Количество заказов в группе В:', len(orders[orders['group'] == 'B']))"
   ]
  },
  {
   "cell_type": "code",
   "execution_count": 14,
   "metadata": {},
   "outputs": [
    {
     "name": "stdout",
     "output_type": "stream",
     "text": [
      "Количество уникальных пользователей в группе A: 503\n",
      "Количество уникальных пользователей в группе В: 586\n"
     ]
    }
   ],
   "source": [
    "print('Количество уникальных пользователей в группе A:', orders.query('group == \"A\"')['visitor_id'].nunique())\n",
    "print('Количество уникальных пользователей в группе В:', orders.query('group == \"B\"')['visitor_id'].nunique())"
   ]
  },
  {
   "cell_type": "markdown",
   "metadata": {},
   "source": [
    "*Выборки не равны.*"
   ]
  },
  {
   "cell_type": "markdown",
   "metadata": {},
   "source": [
    "Создадим цикл для формирования списка пересекающихся пользователей, которые есть как в группе `А`, так и `B`:"
   ]
  },
  {
   "cell_type": "code",
   "execution_count": 15,
   "metadata": {},
   "outputs": [
    {
     "name": "stdout",
     "output_type": "stream",
     "text": [
      "Количество пересекающихся пользователей: 58\n",
      "Доля пересекающихся пользователей: 5.63%\n"
     ]
    }
   ],
   "source": [
    "double_visitor_id = []\n",
    "\n",
    "for x in orders.query('group == \"A\"')['visitor_id'].unique():\n",
    "    if x in orders.query('group == \"B\"')['visitor_id'].unique():\n",
    "        double_visitor_id.append(x)\n",
    "\n",
    "print('Количество пересекающихся пользователей:', len(double_visitor_id))\n",
    "print('Доля пересекающихся пользователей: {:.2%}'\n",
    "      .format(len(double_visitor_id) / orders['visitor_id'].nunique()))"
   ]
  },
  {
   "cell_type": "markdown",
   "metadata": {},
   "source": [
    "**Теперь рассмотрим таблицу `visitors`:**"
   ]
  },
  {
   "cell_type": "code",
   "execution_count": 16,
   "metadata": {},
   "outputs": [],
   "source": [
    "try:\n",
    "    visitors = pd.read_csv('/datasets/visitors.csv')\n",
    "except:\n",
    "    visitors = pd.read_csv(r'C:\\Users\\sidya\\Docs\\Jupiter\\Datasets\\visitors.csv')"
   ]
  },
  {
   "cell_type": "code",
   "execution_count": 17,
   "metadata": {},
   "outputs": [
    {
     "name": "stdout",
     "output_type": "stream",
     "text": [
      "<class 'pandas.core.frame.DataFrame'>\n",
      "RangeIndex: 62 entries, 0 to 61\n",
      "Data columns (total 3 columns):\n",
      " #   Column    Non-Null Count  Dtype \n",
      "---  ------    --------------  ----- \n",
      " 0   date      62 non-null     object\n",
      " 1   group     62 non-null     object\n",
      " 2   visitors  62 non-null     int64 \n",
      "dtypes: int64(1), object(2)\n",
      "memory usage: 1.6+ KB\n",
      "None\n"
     ]
    },
    {
     "data": {
      "text/html": [
       "<div>\n",
       "<style scoped>\n",
       "    .dataframe tbody tr th:only-of-type {\n",
       "        vertical-align: middle;\n",
       "    }\n",
       "\n",
       "    .dataframe tbody tr th {\n",
       "        vertical-align: top;\n",
       "    }\n",
       "\n",
       "    .dataframe thead th {\n",
       "        text-align: right;\n",
       "    }\n",
       "</style>\n",
       "<table border=\"1\" class=\"dataframe\">\n",
       "  <thead>\n",
       "    <tr style=\"text-align: right;\">\n",
       "      <th></th>\n",
       "      <th>date</th>\n",
       "      <th>group</th>\n",
       "      <th>visitors</th>\n",
       "    </tr>\n",
       "  </thead>\n",
       "  <tbody>\n",
       "    <tr>\n",
       "      <th>0</th>\n",
       "      <td>2019-08-01</td>\n",
       "      <td>A</td>\n",
       "      <td>719</td>\n",
       "    </tr>\n",
       "    <tr>\n",
       "      <th>1</th>\n",
       "      <td>2019-08-02</td>\n",
       "      <td>A</td>\n",
       "      <td>619</td>\n",
       "    </tr>\n",
       "    <tr>\n",
       "      <th>2</th>\n",
       "      <td>2019-08-03</td>\n",
       "      <td>A</td>\n",
       "      <td>507</td>\n",
       "    </tr>\n",
       "    <tr>\n",
       "      <th>3</th>\n",
       "      <td>2019-08-04</td>\n",
       "      <td>A</td>\n",
       "      <td>717</td>\n",
       "    </tr>\n",
       "    <tr>\n",
       "      <th>4</th>\n",
       "      <td>2019-08-05</td>\n",
       "      <td>A</td>\n",
       "      <td>756</td>\n",
       "    </tr>\n",
       "  </tbody>\n",
       "</table>\n",
       "</div>"
      ],
      "text/plain": [
       "         date group  visitors\n",
       "0  2019-08-01     A       719\n",
       "1  2019-08-02     A       619\n",
       "2  2019-08-03     A       507\n",
       "3  2019-08-04     A       717\n",
       "4  2019-08-05     A       756"
      ]
     },
     "metadata": {},
     "output_type": "display_data"
    },
    {
     "name": "stdout",
     "output_type": "stream",
     "text": [
      "Размер датасета составляет: (62, 3)\n"
     ]
    },
    {
     "data": {
      "text/html": [
       "<style type=\"text/css\">\n",
       "</style>\n",
       "<table id=\"T_39342\">\n",
       "  <thead>\n",
       "    <tr>\n",
       "      <th class=\"blank level0\" >&nbsp;</th>\n",
       "      <th id=\"T_39342_level0_col0\" class=\"col_heading level0 col0\" >NaNs</th>\n",
       "    </tr>\n",
       "  </thead>\n",
       "  <tbody>\n",
       "    <tr>\n",
       "      <th id=\"T_39342_level0_row0\" class=\"row_heading level0 row0\" >date</th>\n",
       "      <td id=\"T_39342_row0_col0\" class=\"data row0 col0\" >0.00%</td>\n",
       "    </tr>\n",
       "    <tr>\n",
       "      <th id=\"T_39342_level0_row1\" class=\"row_heading level0 row1\" >group</th>\n",
       "      <td id=\"T_39342_row1_col0\" class=\"data row1 col0\" >0.00%</td>\n",
       "    </tr>\n",
       "    <tr>\n",
       "      <th id=\"T_39342_level0_row2\" class=\"row_heading level0 row2\" >visitors</th>\n",
       "      <td id=\"T_39342_row2_col0\" class=\"data row2 col0\" >0.00%</td>\n",
       "    </tr>\n",
       "  </tbody>\n",
       "</table>\n"
      ],
      "text/plain": [
       "<pandas.io.formats.style.Styler at 0x21ecc0fab50>"
      ]
     },
     "metadata": {},
     "output_type": "display_data"
    }
   ],
   "source": [
    "start(visitors)"
   ]
  },
  {
   "cell_type": "markdown",
   "metadata": {},
   "source": [
    "Приведем колонку \"date\" к правильному виду:"
   ]
  },
  {
   "cell_type": "code",
   "execution_count": 18,
   "metadata": {},
   "outputs": [
    {
     "name": "stdout",
     "output_type": "stream",
     "text": [
      "<class 'pandas.core.frame.DataFrame'>\n",
      "RangeIndex: 62 entries, 0 to 61\n",
      "Data columns (total 3 columns):\n",
      " #   Column    Non-Null Count  Dtype         \n",
      "---  ------    --------------  -----         \n",
      " 0   date      62 non-null     datetime64[ns]\n",
      " 1   group     62 non-null     object        \n",
      " 2   visitors  62 non-null     int64         \n",
      "dtypes: datetime64[ns](1), int64(1), object(1)\n",
      "memory usage: 1.6+ KB\n"
     ]
    }
   ],
   "source": [
    "visitors['date'] = pd.to_datetime(visitors['date'])\n",
    "visitors.info()"
   ]
  },
  {
   "cell_type": "markdown",
   "metadata": {},
   "source": [
    "Проверим наличие дубликатов:"
   ]
  },
  {
   "cell_type": "code",
   "execution_count": 19,
   "metadata": {},
   "outputs": [
    {
     "name": "stdout",
     "output_type": "stream",
     "text": [
      "Количество полных дубликатов: 0\n"
     ]
    }
   ],
   "source": [
    "print('Количество полных дубликатов:', visitors.duplicated().sum())"
   ]
  },
  {
   "cell_type": "markdown",
   "metadata": {},
   "source": [
    "И группы в сравнении друг с другом:"
   ]
  },
  {
   "cell_type": "code",
   "execution_count": 20,
   "metadata": {
    "scrolled": true
   },
   "outputs": [
    {
     "name": "stdout",
     "output_type": "stream",
     "text": [
      "Количество дней в группе A: 31\n",
      "Количество дней в группе В: 31\n"
     ]
    }
   ],
   "source": [
    "print('Количество дней в группе A:', len(visitors[visitors['group'] == 'A']))\n",
    "print('Количество дней в группе В:', len(visitors[visitors['group'] == 'B']))"
   ]
  },
  {
   "cell_type": "code",
   "execution_count": 21,
   "metadata": {
    "scrolled": true
   },
   "outputs": [
    {
     "name": "stdout",
     "output_type": "stream",
     "text": [
      "Количество пользователей в группе A: 18736\n",
      "Количество пользователей в группе В: 18916\n"
     ]
    }
   ],
   "source": [
    "print('Количество пользователей в группе A:', visitors.query('group == \"A\"')['visitors'].sum())\n",
    "print('Количество пользователей в группе В:', visitors.query('group == \"B\"')['visitors'].sum())"
   ]
  },
  {
   "cell_type": "markdown",
   "metadata": {},
   "source": [
    "*Количество дней по группам совпадает, а вот выборки по количеству пользователей не равны.*"
   ]
  },
  {
   "cell_type": "markdown",
   "metadata": {},
   "source": [
    "**Таблицы не равны по следующим показателям в группах:**\n",
    "- Количество заказов и уникальных пользователей в датасете `orders.csv`;\n",
    "- Количество пользователей по дням в датасете `visitors.csv`.\n",
    "\n",
    "По итогу, у группы `B` есть численное преимущество по каждому из них.\n",
    "\n",
    "**`A/B-тест` проводился за период, равный 31 дню.**"
   ]
  },
  {
   "cell_type": "markdown",
   "metadata": {},
   "source": [
    "### 2.1. Построение графика кумулятивной выручки по группам "
   ]
  },
  {
   "cell_type": "markdown",
   "metadata": {},
   "source": [
    "Создадим массив уникальных пар значений дат и групп теста:"
   ]
  },
  {
   "cell_type": "code",
   "execution_count": 22,
   "metadata": {},
   "outputs": [],
   "source": [
    "dates_groups = orders[['date','group']].drop_duplicates()"
   ]
  },
  {
   "cell_type": "markdown",
   "metadata": {},
   "source": [
    "Получим агрегированные кумулятивные по дням данные о заказах:"
   ]
  },
  {
   "cell_type": "code",
   "execution_count": 23,
   "metadata": {},
   "outputs": [
    {
     "data": {
      "text/html": [
       "<div>\n",
       "<style scoped>\n",
       "    .dataframe tbody tr th:only-of-type {\n",
       "        vertical-align: middle;\n",
       "    }\n",
       "\n",
       "    .dataframe tbody tr th {\n",
       "        vertical-align: top;\n",
       "    }\n",
       "\n",
       "    .dataframe thead th {\n",
       "        text-align: right;\n",
       "    }\n",
       "</style>\n",
       "<table border=\"1\" class=\"dataframe\">\n",
       "  <thead>\n",
       "    <tr style=\"text-align: right;\">\n",
       "      <th></th>\n",
       "      <th>date</th>\n",
       "      <th>group</th>\n",
       "      <th>transaction_id</th>\n",
       "      <th>visitor_id</th>\n",
       "      <th>revenue</th>\n",
       "    </tr>\n",
       "  </thead>\n",
       "  <tbody>\n",
       "    <tr>\n",
       "      <th>55</th>\n",
       "      <td>2019-08-01</td>\n",
       "      <td>A</td>\n",
       "      <td>24</td>\n",
       "      <td>20</td>\n",
       "      <td>148579</td>\n",
       "    </tr>\n",
       "    <tr>\n",
       "      <th>66</th>\n",
       "      <td>2019-08-01</td>\n",
       "      <td>B</td>\n",
       "      <td>21</td>\n",
       "      <td>20</td>\n",
       "      <td>101217</td>\n",
       "    </tr>\n",
       "    <tr>\n",
       "      <th>175</th>\n",
       "      <td>2019-08-02</td>\n",
       "      <td>A</td>\n",
       "      <td>44</td>\n",
       "      <td>38</td>\n",
       "      <td>242401</td>\n",
       "    </tr>\n",
       "    <tr>\n",
       "      <th>173</th>\n",
       "      <td>2019-08-02</td>\n",
       "      <td>B</td>\n",
       "      <td>45</td>\n",
       "      <td>43</td>\n",
       "      <td>266748</td>\n",
       "    </tr>\n",
       "    <tr>\n",
       "      <th>291</th>\n",
       "      <td>2019-08-03</td>\n",
       "      <td>A</td>\n",
       "      <td>68</td>\n",
       "      <td>62</td>\n",
       "      <td>354874</td>\n",
       "    </tr>\n",
       "  </tbody>\n",
       "</table>\n",
       "</div>"
      ],
      "text/plain": [
       "          date group  transaction_id  visitor_id  revenue\n",
       "55  2019-08-01     A              24          20   148579\n",
       "66  2019-08-01     B              21          20   101217\n",
       "175 2019-08-02     A              44          38   242401\n",
       "173 2019-08-02     B              45          43   266748\n",
       "291 2019-08-03     A              68          62   354874"
      ]
     },
     "execution_count": 23,
     "metadata": {},
     "output_type": "execute_result"
    }
   ],
   "source": [
    "orders_aggregated = dates_groups.apply(\n",
    "    lambda x: orders[np.logical_and(orders['date'] <= x['date'], orders['group'] == x['group'])]\n",
    "    .agg({'date' : 'max', 'group' : 'max', 'transaction_id' : 'nunique', 'visitor_id' : 'nunique', 'revenue' : 'sum'}), \n",
    "    axis=1\n",
    ").sort_values(by=['date','group'])\n",
    "orders_aggregated.head()"
   ]
  },
  {
   "cell_type": "markdown",
   "metadata": {},
   "source": [
    "Также о посетителях интернет-магазина:"
   ]
  },
  {
   "cell_type": "code",
   "execution_count": 24,
   "metadata": {},
   "outputs": [
    {
     "data": {
      "text/html": [
       "<div>\n",
       "<style scoped>\n",
       "    .dataframe tbody tr th:only-of-type {\n",
       "        vertical-align: middle;\n",
       "    }\n",
       "\n",
       "    .dataframe tbody tr th {\n",
       "        vertical-align: top;\n",
       "    }\n",
       "\n",
       "    .dataframe thead th {\n",
       "        text-align: right;\n",
       "    }\n",
       "</style>\n",
       "<table border=\"1\" class=\"dataframe\">\n",
       "  <thead>\n",
       "    <tr style=\"text-align: right;\">\n",
       "      <th></th>\n",
       "      <th>date</th>\n",
       "      <th>group</th>\n",
       "      <th>visitors</th>\n",
       "    </tr>\n",
       "  </thead>\n",
       "  <tbody>\n",
       "    <tr>\n",
       "      <th>55</th>\n",
       "      <td>2019-08-01</td>\n",
       "      <td>A</td>\n",
       "      <td>719</td>\n",
       "    </tr>\n",
       "    <tr>\n",
       "      <th>66</th>\n",
       "      <td>2019-08-01</td>\n",
       "      <td>B</td>\n",
       "      <td>713</td>\n",
       "    </tr>\n",
       "    <tr>\n",
       "      <th>175</th>\n",
       "      <td>2019-08-02</td>\n",
       "      <td>A</td>\n",
       "      <td>1338</td>\n",
       "    </tr>\n",
       "    <tr>\n",
       "      <th>173</th>\n",
       "      <td>2019-08-02</td>\n",
       "      <td>B</td>\n",
       "      <td>1294</td>\n",
       "    </tr>\n",
       "    <tr>\n",
       "      <th>291</th>\n",
       "      <td>2019-08-03</td>\n",
       "      <td>A</td>\n",
       "      <td>1845</td>\n",
       "    </tr>\n",
       "  </tbody>\n",
       "</table>\n",
       "</div>"
      ],
      "text/plain": [
       "          date group  visitors\n",
       "55  2019-08-01     A       719\n",
       "66  2019-08-01     B       713\n",
       "175 2019-08-02     A      1338\n",
       "173 2019-08-02     B      1294\n",
       "291 2019-08-03     A      1845"
      ]
     },
     "execution_count": 24,
     "metadata": {},
     "output_type": "execute_result"
    }
   ],
   "source": [
    "visitors_aggregated = dates_groups.apply(\n",
    "    lambda x: visitors[np.logical_and(visitors['date'] <= x['date'], visitors['group'] == x['group'])]\n",
    "    .agg({'date' : 'max', 'group' : 'max', 'visitors' : 'sum'}),\n",
    "    axis=1\n",
    ").sort_values(by=['date','group'])\n",
    "visitors_aggregated.head()"
   ]
  },
  {
   "cell_type": "markdown",
   "metadata": {},
   "source": [
    "Объединим кумулятивные данные в одной таблице и присвоим ее столбцам понятные названия:"
   ]
  },
  {
   "cell_type": "code",
   "execution_count": 25,
   "metadata": {},
   "outputs": [
    {
     "data": {
      "text/html": [
       "<div>\n",
       "<style scoped>\n",
       "    .dataframe tbody tr th:only-of-type {\n",
       "        vertical-align: middle;\n",
       "    }\n",
       "\n",
       "    .dataframe tbody tr th {\n",
       "        vertical-align: top;\n",
       "    }\n",
       "\n",
       "    .dataframe thead th {\n",
       "        text-align: right;\n",
       "    }\n",
       "</style>\n",
       "<table border=\"1\" class=\"dataframe\">\n",
       "  <thead>\n",
       "    <tr style=\"text-align: right;\">\n",
       "      <th></th>\n",
       "      <th>date</th>\n",
       "      <th>group</th>\n",
       "      <th>orders</th>\n",
       "      <th>buyers</th>\n",
       "      <th>revenue</th>\n",
       "      <th>visitors</th>\n",
       "    </tr>\n",
       "  </thead>\n",
       "  <tbody>\n",
       "    <tr>\n",
       "      <th>0</th>\n",
       "      <td>2019-08-01</td>\n",
       "      <td>A</td>\n",
       "      <td>24</td>\n",
       "      <td>20</td>\n",
       "      <td>148579</td>\n",
       "      <td>719</td>\n",
       "    </tr>\n",
       "    <tr>\n",
       "      <th>1</th>\n",
       "      <td>2019-08-01</td>\n",
       "      <td>B</td>\n",
       "      <td>21</td>\n",
       "      <td>20</td>\n",
       "      <td>101217</td>\n",
       "      <td>713</td>\n",
       "    </tr>\n",
       "    <tr>\n",
       "      <th>2</th>\n",
       "      <td>2019-08-02</td>\n",
       "      <td>A</td>\n",
       "      <td>44</td>\n",
       "      <td>38</td>\n",
       "      <td>242401</td>\n",
       "      <td>1338</td>\n",
       "    </tr>\n",
       "    <tr>\n",
       "      <th>3</th>\n",
       "      <td>2019-08-02</td>\n",
       "      <td>B</td>\n",
       "      <td>45</td>\n",
       "      <td>43</td>\n",
       "      <td>266748</td>\n",
       "      <td>1294</td>\n",
       "    </tr>\n",
       "    <tr>\n",
       "      <th>4</th>\n",
       "      <td>2019-08-03</td>\n",
       "      <td>A</td>\n",
       "      <td>68</td>\n",
       "      <td>62</td>\n",
       "      <td>354874</td>\n",
       "      <td>1845</td>\n",
       "    </tr>\n",
       "  </tbody>\n",
       "</table>\n",
       "</div>"
      ],
      "text/plain": [
       "        date group  orders  buyers  revenue  visitors\n",
       "0 2019-08-01     A      24      20   148579       719\n",
       "1 2019-08-01     B      21      20   101217       713\n",
       "2 2019-08-02     A      44      38   242401      1338\n",
       "3 2019-08-02     B      45      43   266748      1294\n",
       "4 2019-08-03     A      68      62   354874      1845"
      ]
     },
     "execution_count": 25,
     "metadata": {},
     "output_type": "execute_result"
    }
   ],
   "source": [
    "cumulative_data = orders_aggregated.merge(\n",
    "    visitors_aggregated, left_on=['date', 'group'], right_on=['date', 'group'])\n",
    "cumulative_data.columns = ['date', 'group', 'orders', 'buyers', 'revenue', 'visitors']\n",
    "cumulative_data.head()"
   ]
  },
  {
   "cell_type": "markdown",
   "metadata": {},
   "source": [
    "Построим график кумулятивной выручки по группам:"
   ]
  },
  {
   "cell_type": "code",
   "execution_count": 26,
   "metadata": {},
   "outputs": [
    {
     "data": {
      "image/png": "[encoded data removed]",
      "text/plain": [
       "<Figure size 1152x360 with 1 Axes>"
      ]
     },
     "metadata": {
      "needs_background": "light"
     },
     "output_type": "display_data"
    }
   ],
   "source": [
    "# датафрейм с кумулятивным количеством заказов и кумулятивной выручкой по дням в группе А\n",
    "cumulative_revenueA = cumulative_data[cumulative_data['group']=='A'][['date','revenue', 'orders']]\n",
    "\n",
    "# датафрейм с кумулятивным количеством заказов и кумулятивной выручкой по дням в группе B\n",
    "cumulative_revenueB = cumulative_data[cumulative_data['group']=='B'][['date','revenue', 'orders']]\n",
    "\n",
    "plt.figure(figsize=(16,5))\n",
    "\n",
    "# Строим график выручки группы А\n",
    "plt.plot(cumulative_revenueA['date'], cumulative_revenueA['revenue'], \n",
    "         label='A', linewidth=2, marker='o', color='y')\n",
    "# Строим график выручки группы B\n",
    "plt.plot(cumulative_revenueB['date'], cumulative_revenueB['revenue'], \n",
    "         label='B', linewidth=2, marker='o', color='g')\n",
    "\n",
    "plt.xlabel('Дата', fontsize=12)\n",
    "plt.ylabel('Кум-ная выручка, млн. руб.', fontsize=12)\n",
    "plt.legend(loc='lower right')\n",
    "plt.grid()\n",
    "plt.title('График кумулятивной выручки по группам', fontsize=16)\n",
    "plt.show()"
   ]
  },
  {
   "cell_type": "markdown",
   "metadata": {},
   "source": [
    "Посмотрим даты скачка показателей группы `B` более предметно:"
   ]
  },
  {
   "cell_type": "code",
   "execution_count": 27,
   "metadata": {
    "scrolled": true
   },
   "outputs": [
    {
     "data": {
      "text/html": [
       "<div>\n",
       "<style scoped>\n",
       "    .dataframe tbody tr th:only-of-type {\n",
       "        vertical-align: middle;\n",
       "    }\n",
       "\n",
       "    .dataframe tbody tr th {\n",
       "        vertical-align: top;\n",
       "    }\n",
       "\n",
       "    .dataframe thead th {\n",
       "        text-align: right;\n",
       "    }\n",
       "</style>\n",
       "<table border=\"1\" class=\"dataframe\">\n",
       "  <thead>\n",
       "    <tr style=\"text-align: right;\">\n",
       "      <th></th>\n",
       "      <th>date</th>\n",
       "      <th>revenue</th>\n",
       "      <th>orders</th>\n",
       "    </tr>\n",
       "  </thead>\n",
       "  <tbody>\n",
       "    <tr>\n",
       "      <th>35</th>\n",
       "      <td>2019-08-18</td>\n",
       "      <td>2686621</td>\n",
       "      <td>382</td>\n",
       "    </tr>\n",
       "    <tr>\n",
       "      <th>37</th>\n",
       "      <td>2019-08-19</td>\n",
       "      <td>4116541</td>\n",
       "      <td>403</td>\n",
       "    </tr>\n",
       "    <tr>\n",
       "      <th>39</th>\n",
       "      <td>2019-08-20</td>\n",
       "      <td>4263815</td>\n",
       "      <td>423</td>\n",
       "    </tr>\n",
       "  </tbody>\n",
       "</table>\n",
       "</div>"
      ],
      "text/plain": [
       "         date  revenue  orders\n",
       "35 2019-08-18  2686621     382\n",
       "37 2019-08-19  4116541     403\n",
       "39 2019-08-20  4263815     423"
      ]
     },
     "execution_count": 27,
     "metadata": {},
     "output_type": "execute_result"
    }
   ],
   "source": [
    "cumulative_revenueB.query('date > \"2019-08-17\" and date < \"2019-08-21\"')"
   ]
  },
  {
   "cell_type": "markdown",
   "metadata": {},
   "source": [
    "*Как мы видим из динамики графика и таблицы выше, группа `B` за 1 день (19.08.2019 г.) стремительно набрала объем кумулятивной выручки. Это говорит об аномально крупных заказах - выбросах, которые значительно влияют на корректность результата теста.  \n",
    "При заключительном анализе их требуется удалить.*"
   ]
  },
  {
   "cell_type": "markdown",
   "metadata": {},
   "source": [
    "### 2.2. Построение графика кумулятивного среднего чека по группам"
   ]
  },
  {
   "cell_type": "markdown",
   "metadata": {},
   "source": [
    "Для этого разделим кумулятивную выручку на кумулятивное число заказов:"
   ]
  },
  {
   "cell_type": "code",
   "execution_count": 28,
   "metadata": {},
   "outputs": [
    {
     "data": {
      "image/png": "[encoded data removed]",
      "text/plain": [
       "<Figure size 1152x360 with 1 Axes>"
      ]
     },
     "metadata": {
      "needs_background": "light"
     },
     "output_type": "display_data"
    }
   ],
   "source": [
    "plt.figure(figsize=(16,5))\n",
    "\n",
    "plt.plot(cumulative_revenueA['date'], cumulative_revenueA['revenue']/cumulative_revenueA['orders'],\n",
    "         label='A', linewidth=2, marker='o', color='y')\n",
    "plt.plot(cumulative_revenueB['date'], cumulative_revenueB['revenue']/cumulative_revenueB['orders'],\n",
    "         label='B', linewidth=2, marker='o', color='g')\n",
    "\n",
    "plt.xlabel('Дата', fontsize=12)\n",
    "plt.ylabel('Кум-ный ср. чек, руб.', fontsize=12)\n",
    "plt.legend(loc='lower right')\n",
    "plt.grid()\n",
    "plt.title('График кумулятивного среднего чека по группам', fontsize=16)\n",
    "plt.show()"
   ]
  },
  {
   "cell_type": "markdown",
   "metadata": {},
   "source": [
    "*Кумулятивный средний чек в группе `B` также в след за выручкой резко вырос (примерно на 40%), достигнув своего пика. Обнаружен скачок и в группе `А` - перед 13.08.2019 числом, далее произошел спад.  \n",
    "По итогу месяца показатели стабилизировались в обеих группах, однако делать окончательные выводы, не очистив данные в группе `В`, пока рано.*"
   ]
  },
  {
   "cell_type": "markdown",
   "metadata": {},
   "source": [
    "### 2.3. Построение графика относительного изменения кумулятивного среднего чека группы B к группе A"
   ]
  },
  {
   "cell_type": "markdown",
   "metadata": {},
   "source": [
    "Соберем данные в одном датафрейме:"
   ]
  },
  {
   "cell_type": "code",
   "execution_count": 29,
   "metadata": {},
   "outputs": [
    {
     "data": {
      "text/html": [
       "<div>\n",
       "<style scoped>\n",
       "    .dataframe tbody tr th:only-of-type {\n",
       "        vertical-align: middle;\n",
       "    }\n",
       "\n",
       "    .dataframe tbody tr th {\n",
       "        vertical-align: top;\n",
       "    }\n",
       "\n",
       "    .dataframe thead th {\n",
       "        text-align: right;\n",
       "    }\n",
       "</style>\n",
       "<table border=\"1\" class=\"dataframe\">\n",
       "  <thead>\n",
       "    <tr style=\"text-align: right;\">\n",
       "      <th></th>\n",
       "      <th>date</th>\n",
       "      <th>revenueA</th>\n",
       "      <th>ordersA</th>\n",
       "      <th>revenueB</th>\n",
       "      <th>ordersB</th>\n",
       "    </tr>\n",
       "  </thead>\n",
       "  <tbody>\n",
       "    <tr>\n",
       "      <th>0</th>\n",
       "      <td>2019-08-01</td>\n",
       "      <td>148579</td>\n",
       "      <td>24</td>\n",
       "      <td>101217</td>\n",
       "      <td>21</td>\n",
       "    </tr>\n",
       "    <tr>\n",
       "      <th>1</th>\n",
       "      <td>2019-08-02</td>\n",
       "      <td>242401</td>\n",
       "      <td>44</td>\n",
       "      <td>266748</td>\n",
       "      <td>45</td>\n",
       "    </tr>\n",
       "    <tr>\n",
       "      <th>2</th>\n",
       "      <td>2019-08-03</td>\n",
       "      <td>354874</td>\n",
       "      <td>68</td>\n",
       "      <td>380996</td>\n",
       "      <td>61</td>\n",
       "    </tr>\n",
       "    <tr>\n",
       "      <th>3</th>\n",
       "      <td>2019-08-04</td>\n",
       "      <td>425699</td>\n",
       "      <td>84</td>\n",
       "      <td>489567</td>\n",
       "      <td>78</td>\n",
       "    </tr>\n",
       "    <tr>\n",
       "      <th>4</th>\n",
       "      <td>2019-08-05</td>\n",
       "      <td>549917</td>\n",
       "      <td>109</td>\n",
       "      <td>581995</td>\n",
       "      <td>101</td>\n",
       "    </tr>\n",
       "  </tbody>\n",
       "</table>\n",
       "</div>"
      ],
      "text/plain": [
       "        date  revenueA  ordersA  revenueB  ordersB\n",
       "0 2019-08-01    148579       24    101217       21\n",
       "1 2019-08-02    242401       44    266748       45\n",
       "2 2019-08-03    354874       68    380996       61\n",
       "3 2019-08-04    425699       84    489567       78\n",
       "4 2019-08-05    549917      109    581995      101"
      ]
     },
     "execution_count": 29,
     "metadata": {},
     "output_type": "execute_result"
    }
   ],
   "source": [
    "merged_сumulative_revenue = cumulative_revenueA.merge(\n",
    "    cumulative_revenueB, left_on='date', right_on='date', how='left', suffixes=['A', 'B']\n",
    ")\n",
    "merged_сumulative_revenue.head()"
   ]
  },
  {
   "cell_type": "markdown",
   "metadata": {},
   "source": [
    "Построим график относительного изменения кумулятивного среднего чека группы `B` к группе `A`:"
   ]
  },
  {
   "cell_type": "code",
   "execution_count": 30,
   "metadata": {},
   "outputs": [
    {
     "data": {
      "image/png": "[encoded data removed]",
      "text/plain": [
       "<Figure size 1152x360 with 1 Axes>"
      ]
     },
     "metadata": {
      "needs_background": "light"
     },
     "output_type": "display_data"
    }
   ],
   "source": [
    "plt.figure(figsize=(16,5))\n",
    "\n",
    "# cтроим отношение средних чеков\n",
    "plt.plot(merged_сumulative_revenue['date'],\n",
    "         (merged_сumulative_revenue['revenueB']/merged_сumulative_revenue['ordersB'])/\n",
    "         (merged_сumulative_revenue['revenueA']/merged_сumulative_revenue['ordersA'])-1,\n",
    "         linewidth=2, marker='o', color='r')\n",
    "\n",
    "# добавляем ось X\n",
    "plt.axhline(y=0, color='black', linestyle='--')\n",
    "\n",
    "plt.xlabel('Дата', fontsize=12)\n",
    "plt.ylabel('Отношение кум-ного ср. чека', fontsize=12)\n",
    "plt.grid()\n",
    "plt.title('График относительного изменения кумулятивного среднего чека группы B к группе A', fontsize=16)\n",
    "plt.show()"
   ]
  },
  {
   "cell_type": "markdown",
   "metadata": {},
   "source": [
    "*На данном графике отображено уже несколько резких рывков и падений, что также говорить в пользу наличия выбросов.\n",
    "Без их отбора из данных результат будет искажен.*"
   ]
  },
  {
   "cell_type": "markdown",
   "metadata": {},
   "source": [
    "### 2.4. Построение графика кумулятивной конверсии по группам"
   ]
  },
  {
   "cell_type": "markdown",
   "metadata": {},
   "source": [
    "Произведем подсчет кумулятивной конверсии по группам и визуализируем данные:"
   ]
  },
  {
   "cell_type": "code",
   "execution_count": 31,
   "metadata": {},
   "outputs": [
    {
     "data": {
      "image/png": "[encoded data removed]",
      "text/plain": [
       "<Figure size 1152x360 with 1 Axes>"
      ]
     },
     "metadata": {
      "needs_background": "light"
     },
     "output_type": "display_data"
    }
   ],
   "source": [
    "# считаем кумулятивную конверсию\n",
    "cumulative_data['conversion'] = cumulative_data['orders']/cumulative_data['visitors']\n",
    "\n",
    "# отделяем данные по группе A\n",
    "cumulative_dataA = cumulative_data[cumulative_data['group']=='A']\n",
    "\n",
    "# отделяем данные по группе B\n",
    "cumulative_dataB = cumulative_data[cumulative_data['group']=='B']\n",
    "\n",
    "plt.figure(figsize=(16,5))\n",
    "\n",
    "plt.plot(cumulative_dataA['date'], cumulative_dataA['conversion'], \n",
    "         label='A', linewidth=2, marker='o', color='y')\n",
    "plt.plot(cumulative_dataB['date'], cumulative_dataB['conversion'],\n",
    "         label='B', linewidth=2, marker='o', color='g')\n",
    "\n",
    "plt.xlabel('Дата', fontsize=12)\n",
    "plt.ylabel('Кум-ная конверсия', fontsize=12)\n",
    "plt.legend(loc='lower right')\n",
    "plt.grid()\n",
    "plt.title('График кумулятивной конверсии по группам', fontsize=16)\n",
    "plt.show()"
   ]
  },
  {
   "cell_type": "markdown",
   "metadata": {},
   "source": [
    "*Группы в первые дни сильно колебались, но после 05.08.2019 г. кумулятивная конверсия группы `В` вырвалась вперёд и зафиксировалась на уровнях 3.4-3.6%, а конверсия группы `А` просела и также стабилизировалась только на уровне 3%.*"
   ]
  },
  {
   "cell_type": "markdown",
   "metadata": {},
   "source": [
    "### 2.5. Построение графика относительного изменения кумулятивной конверсии группы B к группе A"
   ]
  },
  {
   "cell_type": "markdown",
   "metadata": {},
   "source": [
    "По аналогии соберем данные вместе:"
   ]
  },
  {
   "cell_type": "code",
   "execution_count": 32,
   "metadata": {},
   "outputs": [
    {
     "data": {
      "text/html": [
       "<div>\n",
       "<style scoped>\n",
       "    .dataframe tbody tr th:only-of-type {\n",
       "        vertical-align: middle;\n",
       "    }\n",
       "\n",
       "    .dataframe tbody tr th {\n",
       "        vertical-align: top;\n",
       "    }\n",
       "\n",
       "    .dataframe thead th {\n",
       "        text-align: right;\n",
       "    }\n",
       "</style>\n",
       "<table border=\"1\" class=\"dataframe\">\n",
       "  <thead>\n",
       "    <tr style=\"text-align: right;\">\n",
       "      <th></th>\n",
       "      <th>date</th>\n",
       "      <th>conversionA</th>\n",
       "      <th>conversionB</th>\n",
       "    </tr>\n",
       "  </thead>\n",
       "  <tbody>\n",
       "    <tr>\n",
       "      <th>0</th>\n",
       "      <td>2019-08-01</td>\n",
       "      <td>0.033380</td>\n",
       "      <td>0.029453</td>\n",
       "    </tr>\n",
       "    <tr>\n",
       "      <th>1</th>\n",
       "      <td>2019-08-02</td>\n",
       "      <td>0.032885</td>\n",
       "      <td>0.034776</td>\n",
       "    </tr>\n",
       "    <tr>\n",
       "      <th>2</th>\n",
       "      <td>2019-08-03</td>\n",
       "      <td>0.036856</td>\n",
       "      <td>0.033833</td>\n",
       "    </tr>\n",
       "    <tr>\n",
       "      <th>3</th>\n",
       "      <td>2019-08-04</td>\n",
       "      <td>0.032787</td>\n",
       "      <td>0.030315</td>\n",
       "    </tr>\n",
       "    <tr>\n",
       "      <th>4</th>\n",
       "      <td>2019-08-05</td>\n",
       "      <td>0.032851</td>\n",
       "      <td>0.030793</td>\n",
       "    </tr>\n",
       "  </tbody>\n",
       "</table>\n",
       "</div>"
      ],
      "text/plain": [
       "        date  conversionA  conversionB\n",
       "0 2019-08-01     0.033380     0.029453\n",
       "1 2019-08-02     0.032885     0.034776\n",
       "2 2019-08-03     0.036856     0.033833\n",
       "3 2019-08-04     0.032787     0.030315\n",
       "4 2019-08-05     0.032851     0.030793"
      ]
     },
     "execution_count": 32,
     "metadata": {},
     "output_type": "execute_result"
    }
   ],
   "source": [
    "merged_cumulative_conversions = cumulative_dataA[['date','conversion']].merge(\n",
    "    cumulative_dataB[['date','conversion']], left_on='date', right_on='date', how='left', suffixes=['A', 'B']\n",
    ")\n",
    "merged_cumulative_conversions.head()"
   ]
  },
  {
   "cell_type": "markdown",
   "metadata": {},
   "source": [
    "И отобразим все на графике:"
   ]
  },
  {
   "cell_type": "code",
   "execution_count": 33,
   "metadata": {},
   "outputs": [
    {
     "data": {
      "image/png": "[encoded data removed]",
      "text/plain": [
       "<Figure size 1152x360 with 1 Axes>"
      ]
     },
     "metadata": {
      "needs_background": "light"
     },
     "output_type": "display_data"
    }
   ],
   "source": [
    "plt.figure(figsize=(16,5))\n",
    "\n",
    "plt.plot(merged_cumulative_conversions['date'], \n",
    "         merged_cumulative_conversions['conversionB']/merged_cumulative_conversions['conversionA']-1,\n",
    "         linewidth=2, marker='o', color='r')\n",
    "\n",
    "plt.axhline(y=0, color='black', linestyle='--')\n",
    "plt.axhline(y=0.14, color='grey', linestyle='--')\n",
    "\n",
    "plt.xlabel('Дата', fontsize=12)\n",
    "plt.ylabel('Отношение кум-ной конверсии', fontsize=12)\n",
    "plt.grid()\n",
    "plt.title('График относительного изменения кумулятивной конверсии группы B к группе A', fontsize=16)\n",
    "plt.show()"
   ]
  },
  {
   "cell_type": "markdown",
   "metadata": {},
   "source": [
    "*Кумулятивная конверсия группы `В` не всегда была лучше. Только, начиная после 05.08.2019 г., набрала высоту и по итогу колебалась в районе 14% прироста к группе `A`.*  \n",
    "*В целом отношение конверсии ещё не установилось, и сейчас делать какие-либо выводы по тесту нельзя.*"
   ]
  },
  {
   "cell_type": "markdown",
   "metadata": {},
   "source": [
    "### 2.6. Построение точечного графика количества заказов по пользователям"
   ]
  },
  {
   "cell_type": "markdown",
   "metadata": {},
   "source": [
    "Подсчитаем количество заказов по пользователям:"
   ]
  },
  {
   "cell_type": "code",
   "execution_count": 34,
   "metadata": {
    "scrolled": true
   },
   "outputs": [
    {
     "name": "stdout",
     "output_type": "stream",
     "text": [
      "Среднее количество заказов на одного пользователя: 1.16\n"
     ]
    }
   ],
   "source": [
    "orders_by_users = (\n",
    "    orders.groupby('visitor_id', as_index=False)\n",
    "    .agg({'transaction_id': 'nunique'})\n",
    ")\n",
    "orders_by_users.columns = ['visitor_id', 'orders']\n",
    "\n",
    "print('Среднее количество заказов на одного пользователя:', round(orders_by_users['orders'].mean(), 2))"
   ]
  },
  {
   "cell_type": "markdown",
   "metadata": {},
   "source": [
    "Выведем ТОП-10 самых активных пользователей:"
   ]
  },
  {
   "cell_type": "code",
   "execution_count": 35,
   "metadata": {},
   "outputs": [
    {
     "data": {
      "text/html": [
       "<div>\n",
       "<style scoped>\n",
       "    .dataframe tbody tr th:only-of-type {\n",
       "        vertical-align: middle;\n",
       "    }\n",
       "\n",
       "    .dataframe tbody tr th {\n",
       "        vertical-align: top;\n",
       "    }\n",
       "\n",
       "    .dataframe thead th {\n",
       "        text-align: right;\n",
       "    }\n",
       "</style>\n",
       "<table border=\"1\" class=\"dataframe\">\n",
       "  <thead>\n",
       "    <tr style=\"text-align: right;\">\n",
       "      <th></th>\n",
       "      <th>visitor_id</th>\n",
       "      <th>orders</th>\n",
       "    </tr>\n",
       "  </thead>\n",
       "  <tbody>\n",
       "    <tr>\n",
       "      <th>1023</th>\n",
       "      <td>4256040402</td>\n",
       "      <td>11</td>\n",
       "    </tr>\n",
       "    <tr>\n",
       "      <th>591</th>\n",
       "      <td>2458001652</td>\n",
       "      <td>11</td>\n",
       "    </tr>\n",
       "    <tr>\n",
       "      <th>569</th>\n",
       "      <td>2378935119</td>\n",
       "      <td>9</td>\n",
       "    </tr>\n",
       "    <tr>\n",
       "      <th>487</th>\n",
       "      <td>2038680547</td>\n",
       "      <td>8</td>\n",
       "    </tr>\n",
       "    <tr>\n",
       "      <th>44</th>\n",
       "      <td>199603092</td>\n",
       "      <td>5</td>\n",
       "    </tr>\n",
       "    <tr>\n",
       "      <th>744</th>\n",
       "      <td>3062433592</td>\n",
       "      <td>5</td>\n",
       "    </tr>\n",
       "    <tr>\n",
       "      <th>55</th>\n",
       "      <td>237748145</td>\n",
       "      <td>5</td>\n",
       "    </tr>\n",
       "    <tr>\n",
       "      <th>917</th>\n",
       "      <td>3803269165</td>\n",
       "      <td>5</td>\n",
       "    </tr>\n",
       "    <tr>\n",
       "      <th>299</th>\n",
       "      <td>1230306981</td>\n",
       "      <td>5</td>\n",
       "    </tr>\n",
       "    <tr>\n",
       "      <th>897</th>\n",
       "      <td>3717692402</td>\n",
       "      <td>5</td>\n",
       "    </tr>\n",
       "  </tbody>\n",
       "</table>\n",
       "</div>"
      ],
      "text/plain": [
       "      visitor_id  orders\n",
       "1023  4256040402      11\n",
       "591   2458001652      11\n",
       "569   2378935119       9\n",
       "487   2038680547       8\n",
       "44     199603092       5\n",
       "744   3062433592       5\n",
       "55     237748145       5\n",
       "917   3803269165       5\n",
       "299   1230306981       5\n",
       "897   3717692402       5"
      ]
     },
     "execution_count": 35,
     "metadata": {},
     "output_type": "execute_result"
    }
   ],
   "source": [
    "orders_by_users.sort_values(by='orders', ascending=False).head(10)"
   ]
  },
  {
   "cell_type": "markdown",
   "metadata": {},
   "source": [
    "*Пользователи `4256040402` и `2458001652` совершили по 11 заказов, что, в свою очередь, в 10 раз выше среднего. Очевидно, что они явные претенденты на попадание в срез по аномальным значениям.*"
   ]
  },
  {
   "cell_type": "markdown",
   "metadata": {},
   "source": [
    "Теперь построим сам график:"
   ]
  },
  {
   "cell_type": "code",
   "execution_count": 36,
   "metadata": {},
   "outputs": [
    {
     "data": {
      "image/png": "[encoded data removed]",
      "text/plain": [
       "<Figure size 1152x360 with 1 Axes>"
      ]
     },
     "metadata": {
      "needs_background": "light"
     },
     "output_type": "display_data"
    }
   ],
   "source": [
    "# серия из чисел от 0 до количества наблюдений\n",
    "x_values = pd.Series(range(0, len(orders_by_users)))\n",
    "\n",
    "plt.figure(figsize=(16,5))\n",
    "\n",
    "plt.scatter(x_values, orders_by_users['orders'])\n",
    "\n",
    "plt.xlabel('Порядковый номер пользователя', fontsize=12)\n",
    "plt.ylabel('Число заказов на пользователя', fontsize=12)\n",
    "plt.grid()\n",
    "plt.title('Точечный график количества заказов по пользователям', fontsize=16)\n",
    "plt.show()"
   ]
  },
  {
   "cell_type": "markdown",
   "metadata": {},
   "source": [
    "*Как видно по показаниям графика, большинство пользователей совершило только по 1 заказу в августе 2019 г.  \n",
    "Пользователей, заказавших более двух раз, мало.*"
   ]
  },
  {
   "cell_type": "markdown",
   "metadata": {},
   "source": [
    "### 2.7. Подсчет 95-го и 99-го перцентиля количества заказов на пользователя"
   ]
  },
  {
   "cell_type": "code",
   "execution_count": 37,
   "metadata": {},
   "outputs": [
    {
     "data": {
      "text/plain": [
       "array([2., 4.])"
      ]
     },
     "execution_count": 37,
     "metadata": {},
     "output_type": "execute_result"
    }
   ],
   "source": [
    "np.percentile(orders_by_users['orders'], [95, 99])"
   ]
  },
  {
   "cell_type": "markdown",
   "metadata": {},
   "source": [
    "*Не более 5% пользователей совершили заказы более двух раз. И не более 1% - свыше 4 раз.  \n",
    "За аномальных пользователей примем тех, кто купил более 2 товаров в течение отчетного месяца.*"
   ]
  },
  {
   "cell_type": "markdown",
   "metadata": {},
   "source": [
    "### 2.8. Построение точечного графика стоимостей заказов"
   ]
  },
  {
   "cell_type": "markdown",
   "metadata": {},
   "source": [
    "Узнаем среднюю сумму одного заказа:"
   ]
  },
  {
   "cell_type": "code",
   "execution_count": 38,
   "metadata": {
    "scrolled": false
   },
   "outputs": [
    {
     "name": "stdout",
     "output_type": "stream",
     "text": [
      "Средняя сумма одного заказа: 8348\n"
     ]
    }
   ],
   "source": [
    "print('Средняя сумма одного заказа:', round(orders['revenue'].mean()))"
   ]
  },
  {
   "cell_type": "markdown",
   "metadata": {},
   "source": [
    "А также сформируем ТОП-10 самых крупных заказов:"
   ]
  },
  {
   "cell_type": "code",
   "execution_count": 39,
   "metadata": {
    "scrolled": false
   },
   "outputs": [
    {
     "data": {
      "text/html": [
       "<div>\n",
       "<style scoped>\n",
       "    .dataframe tbody tr th:only-of-type {\n",
       "        vertical-align: middle;\n",
       "    }\n",
       "\n",
       "    .dataframe tbody tr th {\n",
       "        vertical-align: top;\n",
       "    }\n",
       "\n",
       "    .dataframe thead th {\n",
       "        text-align: right;\n",
       "    }\n",
       "</style>\n",
       "<table border=\"1\" class=\"dataframe\">\n",
       "  <thead>\n",
       "    <tr style=\"text-align: right;\">\n",
       "      <th></th>\n",
       "      <th>transaction_id</th>\n",
       "      <th>visitor_id</th>\n",
       "      <th>date</th>\n",
       "      <th>revenue</th>\n",
       "      <th>group</th>\n",
       "    </tr>\n",
       "  </thead>\n",
       "  <tbody>\n",
       "    <tr>\n",
       "      <th>425</th>\n",
       "      <td>590470918</td>\n",
       "      <td>1920142716</td>\n",
       "      <td>2019-08-19</td>\n",
       "      <td>1294500</td>\n",
       "      <td>B</td>\n",
       "    </tr>\n",
       "    <tr>\n",
       "      <th>1196</th>\n",
       "      <td>3936777065</td>\n",
       "      <td>2108080724</td>\n",
       "      <td>2019-08-15</td>\n",
       "      <td>202740</td>\n",
       "      <td>B</td>\n",
       "    </tr>\n",
       "    <tr>\n",
       "      <th>858</th>\n",
       "      <td>192721366</td>\n",
       "      <td>1316129916</td>\n",
       "      <td>2019-08-27</td>\n",
       "      <td>93940</td>\n",
       "      <td>A</td>\n",
       "    </tr>\n",
       "    <tr>\n",
       "      <th>1136</th>\n",
       "      <td>666610489</td>\n",
       "      <td>1307669133</td>\n",
       "      <td>2019-08-13</td>\n",
       "      <td>92550</td>\n",
       "      <td>A</td>\n",
       "    </tr>\n",
       "    <tr>\n",
       "      <th>744</th>\n",
       "      <td>3668308183</td>\n",
       "      <td>888512513</td>\n",
       "      <td>2019-08-27</td>\n",
       "      <td>86620</td>\n",
       "      <td>B</td>\n",
       "    </tr>\n",
       "    <tr>\n",
       "      <th>682</th>\n",
       "      <td>1216533772</td>\n",
       "      <td>4266935830</td>\n",
       "      <td>2019-08-29</td>\n",
       "      <td>78990</td>\n",
       "      <td>B</td>\n",
       "    </tr>\n",
       "    <tr>\n",
       "      <th>662</th>\n",
       "      <td>1811671147</td>\n",
       "      <td>4266935830</td>\n",
       "      <td>2019-08-29</td>\n",
       "      <td>78990</td>\n",
       "      <td>A</td>\n",
       "    </tr>\n",
       "    <tr>\n",
       "      <th>743</th>\n",
       "      <td>3603576309</td>\n",
       "      <td>4133034833</td>\n",
       "      <td>2019-08-09</td>\n",
       "      <td>67990</td>\n",
       "      <td>A</td>\n",
       "    </tr>\n",
       "    <tr>\n",
       "      <th>1103</th>\n",
       "      <td>1348774318</td>\n",
       "      <td>1164614297</td>\n",
       "      <td>2019-08-12</td>\n",
       "      <td>66350</td>\n",
       "      <td>A</td>\n",
       "    </tr>\n",
       "    <tr>\n",
       "      <th>1099</th>\n",
       "      <td>316924019</td>\n",
       "      <td>148427295</td>\n",
       "      <td>2019-08-12</td>\n",
       "      <td>65710</td>\n",
       "      <td>A</td>\n",
       "    </tr>\n",
       "  </tbody>\n",
       "</table>\n",
       "</div>"
      ],
      "text/plain": [
       "      transaction_id  visitor_id       date  revenue group\n",
       "425        590470918  1920142716 2019-08-19  1294500     B\n",
       "1196      3936777065  2108080724 2019-08-15   202740     B\n",
       "858        192721366  1316129916 2019-08-27    93940     A\n",
       "1136       666610489  1307669133 2019-08-13    92550     A\n",
       "744       3668308183   888512513 2019-08-27    86620     B\n",
       "682       1216533772  4266935830 2019-08-29    78990     B\n",
       "662       1811671147  4266935830 2019-08-29    78990     A\n",
       "743       3603576309  4133034833 2019-08-09    67990     A\n",
       "1103      1348774318  1164614297 2019-08-12    66350     A\n",
       "1099       316924019   148427295 2019-08-12    65710     A"
      ]
     },
     "execution_count": 39,
     "metadata": {},
     "output_type": "execute_result"
    }
   ],
   "source": [
    "orders.sort_values(by='revenue', ascending=False).head(10)"
   ]
  },
  {
   "cell_type": "markdown",
   "metadata": {},
   "source": [
    "*Пользователь `1920142716` приобрел 19.08.2019 г. товар на 1 млн. 294 тыс. руб., хотя средняя сумма заказа за август 2019 г. всего 8348 руб. - это явный выброс. Интересно, что же он заказал?*"
   ]
  },
  {
   "cell_type": "markdown",
   "metadata": {},
   "source": [
    "Визуализируем нашу таблицу:"
   ]
  },
  {
   "cell_type": "code",
   "execution_count": 40,
   "metadata": {
    "scrolled": false
   },
   "outputs": [
    {
     "data": {
      "image/png": "[encoded data removed]",
      "text/plain": [
       "<Figure size 1152x360 with 1 Axes>"
      ]
     },
     "metadata": {
      "needs_background": "light"
     },
     "output_type": "display_data"
    }
   ],
   "source": [
    "x_values = pd.Series(range(0, len(orders['revenue'])))\n",
    "\n",
    "plt.figure(figsize=(16,5))\n",
    "\n",
    "plt.scatter(x_values, orders['revenue'])\n",
    "\n",
    "plt.xlabel('Порядковый номер заказа', fontsize=12)\n",
    "plt.ylabel('Сумма заказа, млн. руб.', fontsize=12)\n",
    "plt.grid()\n",
    "plt.title('Точечный график стоимостей заказов', fontsize=16)\n",
    "plt.show()"
   ]
  },
  {
   "cell_type": "markdown",
   "metadata": {},
   "source": [
    "*На основании графика и таблицы ТОП-10 выше можно сделать вывод, что большинство заказов не превышает 100 тыс. руб. А если посмотреть на среднюю сумма заказа, то понятно, что сумма каждого заказа в среднем составляет не более и 10 тыс. руб.*"
   ]
  },
  {
   "cell_type": "markdown",
   "metadata": {},
   "source": [
    "Очистим данные и сформируем этот же график снова:"
   ]
  },
  {
   "cell_type": "code",
   "execution_count": 41,
   "metadata": {},
   "outputs": [
    {
     "data": {
      "image/png": "[encoded data removed]",
      "text/plain": [
       "<Figure size 1152x360 with 1 Axes>"
      ]
     },
     "metadata": {
      "needs_background": "light"
     },
     "output_type": "display_data"
    }
   ],
   "source": [
    "# уберем два аномально высоких значения\n",
    "x2_values = pd.Series(range(0, len(orders[~orders['revenue'].isin([1294500, 202740])]['revenue'])))\n",
    "\n",
    "plt.figure(figsize=(16,5))\n",
    "\n",
    "plt.scatter(x2_values, orders[~orders['revenue'].isin([1294500, 202740])]['revenue'])\n",
    "\n",
    "plt.xlabel('Порядковый номер заказа', fontsize=12)\n",
    "plt.ylabel('Сумма заказа, руб.', fontsize=12)\n",
    "plt.grid()\n",
    "plt.title('Точечный график стоимостей заказов за вычетом двух крупных выбросов', fontsize=16)\n",
    "plt.show()"
   ]
  },
  {
   "cell_type": "markdown",
   "metadata": {},
   "source": [
    "*Да, так намного лучше.*"
   ]
  },
  {
   "cell_type": "markdown",
   "metadata": {},
   "source": [
    "### 2.9. Подсчет 95-го и 99-го перцентиля стоимости заказов"
   ]
  },
  {
   "cell_type": "code",
   "execution_count": 42,
   "metadata": {},
   "outputs": [
    {
     "data": {
      "text/plain": [
       "array([28000. , 58233.2])"
      ]
     },
     "execution_count": 42,
     "metadata": {},
     "output_type": "execute_result"
    }
   ],
   "source": [
    "np.percentile(orders['revenue'], [95, 99])"
   ]
  },
  {
   "cell_type": "markdown",
   "metadata": {},
   "source": [
    "*В отчетном периоде с суммой покупки свыше 28 тыс. руб. всего не более 5% заказов. И 1% заказов, в которых сумма превышает 58 тыс. руб.*  \n",
    "*За аномальные заказы возьмем все, что превышают сумму в 28 тыс. руб.*"
   ]
  },
  {
   "cell_type": "markdown",
   "metadata": {},
   "source": [
    "### 2.10. Подсчет статистической значимости различий в конверсии (среднем количестве заказов на покупателя) между группами по \"сырым\" данным"
   ]
  },
  {
   "cell_type": "markdown",
   "metadata": {},
   "source": [
    "`Нулевая гипотеза (H₀)`: Cтатистической значимости различий в конверсии между группами по \"сырым\" данным нет.  \n",
    "`Альтернативная гипотеза (H₁)`: Различия в конверсии между группами по \"сырым\" данным есть."
   ]
  },
  {
   "cell_type": "markdown",
   "metadata": {},
   "source": [
    "Создадим таблицы по группам для пользователей, совершивших хотя бы 1 заказ, - будет указано число заказов:"
   ]
  },
  {
   "cell_type": "code",
   "execution_count": 43,
   "metadata": {},
   "outputs": [],
   "source": [
    "orders_by_usersA = (\n",
    "    orders[orders['group'] == 'A']\n",
    "    .groupby('visitor_id', as_index=False)\n",
    "    .agg({'transaction_id': pd.Series.nunique})\n",
    ")\n",
    "orders_by_usersA.columns = ['visitor_id', 'orders']\n",
    "\n",
    "orders_by_usersB = (\n",
    "    orders[orders['group'] == 'B']\n",
    "    .groupby('visitor_id', as_index=False)\n",
    "    .agg({'transaction_id': pd.Series.nunique})\n",
    ")\n",
    "orders_by_usersB.columns = ['visitor_id', 'orders']"
   ]
  },
  {
   "cell_type": "markdown",
   "metadata": {},
   "source": [
    "Объявим переменные, в которых пользователям будет соответствовать их число заказов:"
   ]
  },
  {
   "cell_type": "code",
   "execution_count": 44,
   "metadata": {},
   "outputs": [],
   "source": [
    "sampleA = pd.concat(\n",
    "    [orders_by_usersA['orders'],\n",
    "     pd.Series(0, index=np.arange(visitors.query('group == \"A\"')['visitors'].sum() - len(orders_by_usersA['orders'])),\n",
    "               name='orders')]\n",
    "    ,axis=0)\n",
    "\n",
    "sampleB = pd.concat(\n",
    "    [orders_by_usersB['orders'],\n",
    "     pd.Series(0, index=np.arange(visitors.query('group == \"B\"')['visitors'].sum() - len(orders_by_usersB['orders'])),\n",
    "               name='orders')]\n",
    "    ,axis=0)"
   ]
  },
  {
   "cell_type": "markdown",
   "metadata": {},
   "source": [
    "Применим тест `Манна-Уитни` и выведем `p-value` для сравнения конверсий (ср. числа заказов на пользователя) между группами:"
   ]
  },
  {
   "cell_type": "code",
   "execution_count": 45,
   "metadata": {},
   "outputs": [
    {
     "name": "stdout",
     "output_type": "stream",
     "text": [
      "p-value: 0.0168\n",
      "Отвергаем нулевую гипотезу: между конверсиями есть значимая разница\n"
     ]
    }
   ],
   "source": [
    "print('p-value: {0:.4f}'.format(stats.mannwhitneyu(sampleA, sampleB)[1]))\n",
    "\n",
    "alpha = .05 # установим критический уровень статистической значимости \n",
    "\n",
    "if (stats.mannwhitneyu(sampleA, sampleB)[1]) < alpha:\n",
    "    print('Отвергаем нулевую гипотезу: между конверсиями есть значимая разница')\n",
    "else:\n",
    "    print('Не получилось отвергнуть нулевую гипотезу, нет оснований считать конверсии разными')"
   ]
  },
  {
   "cell_type": "markdown",
   "metadata": {},
   "source": [
    "А также выведем относительное различие в конверсии (ср. числе заказов на пользователя) между группами:"
   ]
  },
  {
   "cell_type": "code",
   "execution_count": 46,
   "metadata": {},
   "outputs": [
    {
     "name": "stdout",
     "output_type": "stream",
     "text": [
      "Относительное различие в конверсии: 0.138\n"
     ]
    }
   ],
   "source": [
    "print('Относительное различие в конверсии: {0:.3f}'.format(sampleB.mean() / sampleA.mean() - 1))"
   ]
  },
  {
   "cell_type": "markdown",
   "metadata": {},
   "source": [
    "*По \"сырым\" данным можно говорить о `статистической значимости различий конверсий между группами` (`p-value = 1.68%`, что меньше alpha), а также об `относительной разнице` между группами в пользу большей конверсии у группы `B`. Нулевая гипотеза H₀ отвергнута в пользу альтернативной H₁.*"
   ]
  },
  {
   "cell_type": "markdown",
   "metadata": {},
   "source": [
    "### 2.11. Подсчет статистической значимости различий в среднем чеке заказа между группами по \"сырым\" данным"
   ]
  },
  {
   "cell_type": "markdown",
   "metadata": {},
   "source": [
    "`Нулевая гипотеза (H₀)`: Статистической значимости различий в среднем чеке заказа между группами по \"сырым\" данным нет.  \n",
    "`Альтернативная гипотеза (H₁)`: Различия в среднем чеке заказа между группами по \"сырым\" данным есть."
   ]
  },
  {
   "cell_type": "markdown",
   "metadata": {},
   "source": [
    "Начнем с теста `Манна-Уитни`:"
   ]
  },
  {
   "cell_type": "code",
   "execution_count": 47,
   "metadata": {},
   "outputs": [
    {
     "name": "stdout",
     "output_type": "stream",
     "text": [
      "p-value: 0.729\n",
      "Не получилось отвергнуть нулевую гипотезу, нет оснований считать ср. чеки разными\n"
     ]
    }
   ],
   "source": [
    "p_value = stats.mannwhitneyu(orders[orders['group']=='A']['revenue'], \n",
    "                             orders[orders['group']=='B']['revenue'])[1]\n",
    "\n",
    "print('p-value: {0:.3f}'.format(p_value))\n",
    "\n",
    "alpha = .05\n",
    "\n",
    "if p_value < alpha:\n",
    "    print('Отвергаем нулевую гипотезу: между ср. чеками есть значимая разница')\n",
    "else:\n",
    "    print('Не получилось отвергнуть нулевую гипотезу, нет оснований считать ср. чеки разными')"
   ]
  },
  {
   "cell_type": "markdown",
   "metadata": {},
   "source": [
    "Не забудем отобразить и относительное различие в среднем чеке заказа между группами:"
   ]
  },
  {
   "cell_type": "code",
   "execution_count": 48,
   "metadata": {},
   "outputs": [
    {
     "name": "stdout",
     "output_type": "stream",
     "text": [
      "Относительное различие в среднем чеке: 0.259\n"
     ]
    }
   ],
   "source": [
    "print('Относительное различие в среднем чеке: {0:.3f}'.format(\n",
    "    orders[orders['group']=='B']['revenue'].mean()/orders[orders['group']=='A']['revenue'].mean() - 1))"
   ]
  },
  {
   "cell_type": "markdown",
   "metadata": {},
   "source": [
    "*Значение `p-value = 72.9%`, что свидетельствует об `отсутствии статистической значимости различий среднего чека заказа между группами` согласно гипотезе H₀ и об `относительной разнице` между группами в пользу большей суммы среднего чека заказа у группы `B`. Однако это все результаты по \"сырым\" данным, посмотрим, что будет по \"очищенным\" данным.*"
   ]
  },
  {
   "cell_type": "markdown",
   "metadata": {},
   "source": [
    "### 2.12. Подсчет статистической значимости различий в конверсии (среднем количестве заказов на покупателя) между группами по \"очищенным\" данным"
   ]
  },
  {
   "cell_type": "markdown",
   "metadata": {},
   "source": [
    "`Нулевая гипотеза (H₀)`: Статистической значимости различий в конверсии между группами по \"очищенным\" данным нет.  \n",
    "`Альтернативная гипотеза (H₁)`: Различия в конверсии между группами по \"очищенным\" данным есть."
   ]
  },
  {
   "cell_type": "markdown",
   "metadata": {},
   "source": [
    "Cделаем срезы по аномальному количеству заказов на одного пользователя и аномальной стоимости одного заказа (более 2-х покупок на пользователя и свыше 28 тыс. руб. соответственно, порог = 5%):"
   ]
  },
  {
   "cell_type": "code",
   "execution_count": 49,
   "metadata": {},
   "outputs": [
    {
     "name": "stdout",
     "output_type": "stream",
     "text": [
      "Количество аномальных пользователей: 74\n"
     ]
    }
   ],
   "source": [
    "users_with_many_orders = pd.concat(\n",
    "    [\n",
    "        orders_by_usersA[orders_by_usersA['orders'] > 2]['visitor_id'],\n",
    "        orders_by_usersB[orders_by_usersB['orders'] > 2]['visitor_id'],\n",
    "    ],\n",
    "    axis=0)\n",
    "users_with_expensive_orders = orders[orders['revenue'] > 28000]['visitor_id']\n",
    "\n",
    "abnormal_users = (\n",
    "    pd.concat([users_with_many_orders, users_with_expensive_orders], axis=0)\n",
    "    .drop_duplicates()\n",
    "    .sort_values()\n",
    ")\n",
    "\n",
    "print('Количество аномальных пользователей:', abnormal_users.shape[0])"
   ]
  },
  {
   "cell_type": "markdown",
   "metadata": {},
   "source": [
    "Уберем этих пользователей из калькуляции:"
   ]
  },
  {
   "cell_type": "code",
   "execution_count": 50,
   "metadata": {},
   "outputs": [],
   "source": [
    "sample_Afiltered = pd.concat(\n",
    "    [\n",
    "        orders_by_usersA[\n",
    "            np.logical_not(orders_by_usersA['visitor_id'].isin(abnormal_users))\n",
    "        ]['orders'],\n",
    "        pd.Series(\n",
    "            0,\n",
    "            index=np.arange(\n",
    "                visitors.query('group == \"A\"')['visitors'].sum() - len(orders_by_usersA['orders'])\n",
    "            ),\n",
    "            name='orders',\n",
    "        ),\n",
    "    ],\n",
    "    axis=0)\n",
    "\n",
    "sample_Bfiltered = pd.concat(\n",
    "    [\n",
    "        orders_by_usersB[\n",
    "            np.logical_not(orders_by_usersB['visitor_id'].isin(abnormal_users))\n",
    "        ]['orders'],\n",
    "        pd.Series(\n",
    "            0,\n",
    "            index=np.arange(\n",
    "                visitors.query('group == \"B\"')['visitors'].sum() - len(orders_by_usersB['orders'])\n",
    "            ),\n",
    "            name='orders',\n",
    "        ),\n",
    "    ],\n",
    "    axis=0)"
   ]
  },
  {
   "cell_type": "markdown",
   "metadata": {},
   "source": [
    "Проведем знакомый нам тест:"
   ]
  },
  {
   "cell_type": "code",
   "execution_count": 51,
   "metadata": {},
   "outputs": [
    {
     "name": "stdout",
     "output_type": "stream",
     "text": [
      "p-value: 0.013\n",
      "Отвергаем нулевую гипотезу: между конверсиями есть значимая разница\n"
     ]
    }
   ],
   "source": [
    "print('p-value: {0:.3f}'.format(stats.mannwhitneyu(sample_Afiltered, sample_Bfiltered)[1]))\n",
    "\n",
    "alpha = .05\n",
    "\n",
    "if stats.mannwhitneyu(sample_Afiltered, sample_Bfiltered)[1] < alpha:\n",
    "    print('Отвергаем нулевую гипотезу: между конверсиями есть значимая разница')\n",
    "else:\n",
    "    print('Не получилось отвергнуть нулевую гипотезу, нет оснований считать конверсии разными')"
   ]
  },
  {
   "cell_type": "markdown",
   "metadata": {},
   "source": [
    "И подсчитаем относительное различие конверсий двух групп:"
   ]
  },
  {
   "cell_type": "code",
   "execution_count": 52,
   "metadata": {},
   "outputs": [
    {
     "name": "stdout",
     "output_type": "stream",
     "text": [
      "Относительное различие в конверсии: 0.173\n"
     ]
    }
   ],
   "source": [
    "print('Относительное различие в конверсии: {0:.3f}'.format(sample_Bfiltered.mean()/sample_Afiltered.mean() - 1))"
   ]
  },
  {
   "cell_type": "markdown",
   "metadata": {},
   "source": [
    "*Как и в случае с \"сырыми\" данными, `статистическая значимость достигнута`, `возросла относительная разница` группы `B` над `A`. В результате нулевая гипотеза H₀ отвергнута в пользу альтернативной H₁.*"
   ]
  },
  {
   "cell_type": "markdown",
   "metadata": {},
   "source": [
    "### 2.13. Подсчет статистической значимости различий в среднем чеке заказа между группами по \"очищенным\" данным"
   ]
  },
  {
   "cell_type": "markdown",
   "metadata": {},
   "source": [
    "`Нулевая гипотеза (H₀)`: Статистической значимости различий в среднем чеке заказа между группами по \"очищенным\" данным нет.  \n",
    "`Альтернативная гипотеза (H₁)`: Различия в среднем чеке заказа между группами по \"очищенным\" данным есть."
   ]
  },
  {
   "cell_type": "markdown",
   "metadata": {},
   "source": [
    "Проведем тест:"
   ]
  },
  {
   "cell_type": "code",
   "execution_count": 53,
   "metadata": {},
   "outputs": [
    {
     "name": "stdout",
     "output_type": "stream",
     "text": [
      "p-value: 0.738\n",
      "Не получилось отвергнуть нулевую гипотезу, нет оснований считать ср. чеки разными\n"
     ]
    }
   ],
   "source": [
    "p_value_filtered = stats.mannwhitneyu(\n",
    "            orders[\n",
    "                np.logical_and(\n",
    "                    orders['group'] == 'A',\n",
    "                    np.logical_not(orders['visitor_id'].isin(abnormal_users)),\n",
    "                )\n",
    "            ]['revenue'],\n",
    "            orders[\n",
    "                np.logical_and(\n",
    "                    orders['group'] == 'B',\n",
    "                    np.logical_not(orders['visitor_id'].isin(abnormal_users)),\n",
    "                )\n",
    "            ]['revenue'],\n",
    "        )[1]\n",
    "\n",
    "print('p-value: {0:.3f}'.format(p_value_filtered))\n",
    "\n",
    "alpha = .05\n",
    "\n",
    "if p_value_filtered < alpha:\n",
    "    print('Отвергаем нулевую гипотезу: между ср. чеками есть значимая разница')\n",
    "else:\n",
    "    print('Не получилось отвергнуть нулевую гипотезу, нет оснований считать ср. чеки разными')"
   ]
  },
  {
   "cell_type": "markdown",
   "metadata": {},
   "source": [
    "Посмотрим на относительное различие средних чеков:"
   ]
  },
  {
   "cell_type": "code",
   "execution_count": 54,
   "metadata": {},
   "outputs": [
    {
     "name": "stdout",
     "output_type": "stream",
     "text": [
      "Относительное различие в среднем чеке: -0.020\n"
     ]
    }
   ],
   "source": [
    "ratio_filtered = (orders[\n",
    "            np.logical_and(\n",
    "                orders['group'] == 'B',\n",
    "                np.logical_not(orders['visitor_id'].isin(abnormal_users)),\n",
    "            )\n",
    "        ]['revenue'].mean()\n",
    "        / orders[\n",
    "            np.logical_and(\n",
    "                orders['group'] == 'A',\n",
    "                np.logical_not(orders['visitor_id'].isin(abnormal_users)),\n",
    "            )\n",
    "        ]['revenue'].mean()\n",
    "        - 1)\n",
    "\n",
    "print('Относительное различие в среднем чеке: {0:.3f}'.format(ratio_filtered))"
   ]
  },
  {
   "cell_type": "markdown",
   "metadata": {},
   "source": [
    "*`Статистическая значимость вновь не достигнута`, нулевая гипотеза H₀ не отвергнута.   \n",
    "`P-value почти не изменился`, однако `разница между сегментами упала` с 25,9% до -2%. Это говорит о том, что после удаления выбросов в данных значительно меньше шума.*"
   ]
  },
  {
   "cell_type": "markdown",
   "metadata": {},
   "source": [
    "### 2.14. Принятие решения по результатам теста"
   ]
  },
  {
   "cell_type": "markdown",
   "metadata": {},
   "source": [
    "**Имеющиеся факты:**\n",
    "- Статистически значимое различие в конверсии между группами есть как по \"сырым\", так и по \"очищенным\" данным (нулевые гипотезы отвергнуты в пользу альтернативных);\n",
    "- Нет статистически значимого различия по среднему чеку между группами ни по \"сырым\", ни по данным после фильтрации аномалий (нулевые гипотезы не отвергнуты);\n",
    "- График различия кумулятивного среднего чека колебался, что говорило нам об аномальных значениях, с положительной динамикой к группе `А`. Однако по результатам теста значения между группами примерно одинаковы;\n",
    "- График различия кумулятивной конверсии между группами к концу отчетного периода показывает, что результаты группы `B` лучше группы `A` и находятся на уровне +14% с тенденцией к росту. По \"очищенным\" данным предварительно эта разница может возрасти до 17%."
   ]
  },
  {
   "cell_type": "markdown",
   "metadata": {},
   "source": [
    "**`Я предлагаю:`**\n",
    "- Остановить тест и `зафиксировать победу группы B`;\n",
    "- При возможности, в ближайшее время, `внедрить гипотезу \"добавить форму подписки на все основные страницы, чтобы собрать базу клиентов для email-рассылок\"` с самым высоким показателем `RICE` для более эффективного темпа увеличения выручки нашего интернет-магазина и охвата большего количества пользователей."
   ]
  }
 ],
 "metadata": {
  "ExecuteTimeLog": [
   {
    "duration": 51,
    "start_time": "2022-08-02T11:02:09.334Z"
   },
   {
    "duration": 1411,
    "start_time": "2022-08-02T11:02:15.162Z"
   },
   {
    "duration": 63,
    "start_time": "2022-08-02T11:02:16.575Z"
   },
   {
    "duration": 12,
    "start_time": "2022-08-02T11:02:16.640Z"
   },
   {
    "duration": 14,
    "start_time": "2022-08-02T11:02:16.654Z"
   },
   {
    "duration": 11,
    "start_time": "2022-08-02T11:02:16.670Z"
   },
   {
    "duration": 81,
    "start_time": "2022-08-02T11:02:16.682Z"
   },
   {
    "duration": 22,
    "start_time": "2022-08-02T11:02:16.765Z"
   },
   {
    "duration": 14,
    "start_time": "2022-08-02T11:02:16.788Z"
   },
   {
    "duration": 8,
    "start_time": "2022-08-02T11:02:16.804Z"
   },
   {
    "duration": 6,
    "start_time": "2022-08-02T11:02:16.814Z"
   },
   {
    "duration": 7,
    "start_time": "2022-08-02T11:02:16.822Z"
   },
   {
    "duration": 13,
    "start_time": "2022-08-02T11:02:16.831Z"
   },
   {
    "duration": 12,
    "start_time": "2022-08-02T11:02:16.845Z"
   },
   {
    "duration": 59,
    "start_time": "2022-08-02T11:02:16.859Z"
   },
   {
    "duration": 17,
    "start_time": "2022-08-02T11:02:16.920Z"
   },
   {
    "duration": 11,
    "start_time": "2022-08-02T11:02:16.939Z"
   },
   {
    "duration": 7,
    "start_time": "2022-08-02T11:02:16.952Z"
   },
   {
    "duration": 6,
    "start_time": "2022-08-02T11:02:16.961Z"
   },
   {
    "duration": 10,
    "start_time": "2022-08-02T11:02:16.969Z"
   },
   {
    "duration": 331,
    "start_time": "2022-08-02T11:02:16.981Z"
   },
   {
    "duration": 335,
    "start_time": "2022-08-02T11:02:17.314Z"
   },
   {
    "duration": 10,
    "start_time": "2022-08-02T11:02:17.650Z"
   },
   {
    "duration": 204,
    "start_time": "2022-08-02T11:02:17.662Z"
   },
   {
    "duration": 395,
    "start_time": "2022-08-02T11:02:17.867Z"
   },
   {
    "duration": 231,
    "start_time": "2022-08-02T11:02:18.264Z"
   },
   {
    "duration": 331,
    "start_time": "2022-08-02T11:02:18.497Z"
   },
   {
    "duration": 16,
    "start_time": "2022-08-02T11:02:18.830Z"
   },
   {
    "duration": 169,
    "start_time": "2022-08-02T11:02:18.850Z"
   },
   {
    "duration": 5,
    "start_time": "2022-08-02T11:02:19.021Z"
   },
   {
    "duration": 21,
    "start_time": "2022-08-02T11:02:19.028Z"
   },
   {
    "duration": 189,
    "start_time": "2022-08-02T11:02:19.051Z"
   },
   {
    "duration": 5,
    "start_time": "2022-08-02T11:02:19.242Z"
   },
   {
    "duration": 316,
    "start_time": "2022-08-02T11:02:19.250Z"
   },
   {
    "duration": 196,
    "start_time": "2022-08-02T11:02:19.568Z"
   },
   {
    "duration": 11,
    "start_time": "2022-08-02T11:02:19.766Z"
   },
   {
    "duration": 25,
    "start_time": "2022-08-02T11:02:19.779Z"
   },
   {
    "duration": 28,
    "start_time": "2022-08-02T11:02:19.806Z"
   },
   {
    "duration": 14,
    "start_time": "2022-08-02T11:02:19.836Z"
   },
   {
    "duration": 10,
    "start_time": "2022-08-02T11:04:11.938Z"
   },
   {
    "duration": 1139,
    "start_time": "2022-08-02T11:04:20.847Z"
   },
   {
    "duration": 27,
    "start_time": "2022-08-02T11:04:21.988Z"
   },
   {
    "duration": 13,
    "start_time": "2022-08-02T11:04:22.017Z"
   },
   {
    "duration": 11,
    "start_time": "2022-08-02T11:04:22.032Z"
   },
   {
    "duration": 12,
    "start_time": "2022-08-02T11:04:22.046Z"
   },
   {
    "duration": 45,
    "start_time": "2022-08-02T11:04:22.060Z"
   },
   {
    "duration": 21,
    "start_time": "2022-08-02T11:04:22.106Z"
   },
   {
    "duration": 26,
    "start_time": "2022-08-02T11:04:22.129Z"
   },
   {
    "duration": 12,
    "start_time": "2022-08-02T11:04:22.156Z"
   },
   {
    "duration": 6,
    "start_time": "2022-08-02T11:04:22.170Z"
   },
   {
    "duration": 29,
    "start_time": "2022-08-02T11:04:22.178Z"
   },
   {
    "duration": 10,
    "start_time": "2022-08-02T11:04:22.209Z"
   },
   {
    "duration": 16,
    "start_time": "2022-08-02T11:04:22.221Z"
   },
   {
    "duration": 20,
    "start_time": "2022-08-02T11:04:22.240Z"
   },
   {
    "duration": 19,
    "start_time": "2022-08-02T11:04:22.261Z"
   },
   {
    "duration": 31,
    "start_time": "2022-08-02T11:04:22.282Z"
   },
   {
    "duration": 15,
    "start_time": "2022-08-02T11:04:22.316Z"
   },
   {
    "duration": 9,
    "start_time": "2022-08-02T11:04:22.333Z"
   },
   {
    "duration": 11,
    "start_time": "2022-08-02T11:04:22.343Z"
   },
   {
    "duration": 334,
    "start_time": "2022-08-02T11:04:22.356Z"
   },
   {
    "duration": 321,
    "start_time": "2022-08-02T11:04:22.691Z"
   },
   {
    "duration": 11,
    "start_time": "2022-08-02T11:04:23.013Z"
   },
   {
    "duration": 225,
    "start_time": "2022-08-02T11:04:23.026Z"
   },
   {
    "duration": 304,
    "start_time": "2022-08-02T11:04:23.253Z"
   },
   {
    "duration": 232,
    "start_time": "2022-08-02T11:04:23.558Z"
   },
   {
    "duration": 328,
    "start_time": "2022-08-02T11:04:23.792Z"
   },
   {
    "duration": 13,
    "start_time": "2022-08-02T11:04:24.122Z"
   },
   {
    "duration": 167,
    "start_time": "2022-08-02T11:04:24.137Z"
   },
   {
    "duration": 6,
    "start_time": "2022-08-02T11:04:24.306Z"
   },
   {
    "duration": 14,
    "start_time": "2022-08-02T11:04:24.313Z"
   },
   {
    "duration": 181,
    "start_time": "2022-08-02T11:04:24.329Z"
   },
   {
    "duration": 5,
    "start_time": "2022-08-02T11:04:24.512Z"
   },
   {
    "duration": 244,
    "start_time": "2022-08-02T11:04:24.519Z"
   },
   {
    "duration": 165,
    "start_time": "2022-08-02T11:04:24.765Z"
   },
   {
    "duration": 10,
    "start_time": "2022-08-02T11:04:24.932Z"
   },
   {
    "duration": 12,
    "start_time": "2022-08-02T11:04:24.943Z"
   },
   {
    "duration": 47,
    "start_time": "2022-08-02T11:04:24.957Z"
   },
   {
    "duration": 15,
    "start_time": "2022-08-02T11:04:25.006Z"
   },
   {
    "duration": 7,
    "start_time": "2022-08-02T11:05:26.197Z"
   },
   {
    "duration": 15,
    "start_time": "2022-08-02T11:06:20.438Z"
   },
   {
    "duration": 259,
    "start_time": "2022-08-02T11:07:19.638Z"
   },
   {
    "duration": 154,
    "start_time": "2022-08-02T11:08:33.936Z"
   },
   {
    "duration": 117,
    "start_time": "2022-08-02T11:08:48.346Z"
   },
   {
    "duration": 16,
    "start_time": "2022-08-02T11:09:23.478Z"
   },
   {
    "duration": 132,
    "start_time": "2022-08-02T11:09:27.862Z"
   },
   {
    "duration": 10,
    "start_time": "2022-08-02T11:10:32.588Z"
   },
   {
    "duration": 11,
    "start_time": "2022-08-02T11:10:51.794Z"
   },
   {
    "duration": 15,
    "start_time": "2022-08-02T11:11:09.057Z"
   },
   {
    "duration": 13,
    "start_time": "2022-08-02T11:11:17.245Z"
   },
   {
    "duration": 12,
    "start_time": "2022-08-02T11:11:28.567Z"
   },
   {
    "duration": 14,
    "start_time": "2022-08-02T11:11:36.489Z"
   },
   {
    "duration": 21,
    "start_time": "2022-08-02T11:11:58.939Z"
   },
   {
    "duration": 15,
    "start_time": "2022-08-02T11:12:06.882Z"
   },
   {
    "duration": 8,
    "start_time": "2022-08-02T11:12:45.035Z"
   },
   {
    "duration": 33,
    "start_time": "2022-08-02T11:15:02.480Z"
   },
   {
    "duration": 37,
    "start_time": "2022-08-02T11:15:12.836Z"
   },
   {
    "duration": 35,
    "start_time": "2022-08-02T11:15:22.643Z"
   },
   {
    "duration": 749,
    "start_time": "2022-08-02T11:16:21.509Z"
   },
   {
    "duration": 766,
    "start_time": "2022-08-02T11:16:59.539Z"
   },
   {
    "duration": 796,
    "start_time": "2022-08-02T11:17:22.636Z"
   },
   {
    "duration": 857,
    "start_time": "2022-08-02T11:17:33.910Z"
   },
   {
    "duration": 14,
    "start_time": "2022-08-02T11:17:45.836Z"
   },
   {
    "duration": 66,
    "start_time": "2022-08-02T11:17:49.681Z"
   },
   {
    "duration": 879,
    "start_time": "2022-08-02T11:17:51.988Z"
   },
   {
    "duration": 75,
    "start_time": "2022-08-02T11:18:00.308Z"
   },
   {
    "duration": 794,
    "start_time": "2022-08-02T11:18:02.785Z"
   },
   {
    "duration": 14,
    "start_time": "2022-08-02T11:18:16.136Z"
   },
   {
    "duration": 849,
    "start_time": "2022-08-02T11:20:06.580Z"
   },
   {
    "duration": 791,
    "start_time": "2022-08-02T11:20:32.532Z"
   },
   {
    "duration": 814,
    "start_time": "2022-08-02T11:20:41.367Z"
   },
   {
    "duration": 849,
    "start_time": "2022-08-02T11:21:22.975Z"
   },
   {
    "duration": 788,
    "start_time": "2022-08-02T11:21:33.649Z"
   },
   {
    "duration": 1097,
    "start_time": "2022-08-02T11:21:41.005Z"
   },
   {
    "duration": 28,
    "start_time": "2022-08-02T11:21:42.104Z"
   },
   {
    "duration": 14,
    "start_time": "2022-08-02T11:21:42.133Z"
   },
   {
    "duration": 12,
    "start_time": "2022-08-02T11:21:42.149Z"
   },
   {
    "duration": 12,
    "start_time": "2022-08-02T11:21:42.163Z"
   },
   {
    "duration": 38,
    "start_time": "2022-08-02T11:21:42.177Z"
   },
   {
    "duration": 22,
    "start_time": "2022-08-02T11:21:42.217Z"
   },
   {
    "duration": 14,
    "start_time": "2022-08-02T11:21:42.241Z"
   },
   {
    "duration": 8,
    "start_time": "2022-08-02T11:21:42.256Z"
   },
   {
    "duration": 6,
    "start_time": "2022-08-02T11:21:42.266Z"
   },
   {
    "duration": 29,
    "start_time": "2022-08-02T11:21:42.274Z"
   },
   {
    "duration": 9,
    "start_time": "2022-08-02T11:21:42.305Z"
   },
   {
    "duration": 805,
    "start_time": "2022-08-02T11:21:42.316Z"
   },
   {
    "duration": 25,
    "start_time": "2022-08-02T11:21:43.124Z"
   },
   {
    "duration": 17,
    "start_time": "2022-08-02T11:21:43.151Z"
   },
   {
    "duration": 16,
    "start_time": "2022-08-02T11:21:43.170Z"
   },
   {
    "duration": 16,
    "start_time": "2022-08-02T11:21:43.188Z"
   },
   {
    "duration": 11,
    "start_time": "2022-08-02T11:21:43.205Z"
   },
   {
    "duration": 13,
    "start_time": "2022-08-02T11:21:43.218Z"
   },
   {
    "duration": 320,
    "start_time": "2022-08-02T11:21:43.233Z"
   },
   {
    "duration": 303,
    "start_time": "2022-08-02T11:21:43.555Z"
   },
   {
    "duration": 10,
    "start_time": "2022-08-02T11:21:43.860Z"
   },
   {
    "duration": 221,
    "start_time": "2022-08-02T11:21:43.872Z"
   },
   {
    "duration": 324,
    "start_time": "2022-08-02T11:21:44.095Z"
   },
   {
    "duration": 224,
    "start_time": "2022-08-02T11:21:44.422Z"
   },
   {
    "duration": 293,
    "start_time": "2022-08-02T11:21:44.648Z"
   },
   {
    "duration": 13,
    "start_time": "2022-08-02T11:21:44.943Z"
   },
   {
    "duration": 171,
    "start_time": "2022-08-02T11:21:44.958Z"
   },
   {
    "duration": 6,
    "start_time": "2022-08-02T11:21:45.130Z"
   },
   {
    "duration": 18,
    "start_time": "2022-08-02T11:21:45.138Z"
   },
   {
    "duration": 177,
    "start_time": "2022-08-02T11:21:45.157Z"
   },
   {
    "duration": 4,
    "start_time": "2022-08-02T11:21:45.336Z"
   },
   {
    "duration": 250,
    "start_time": "2022-08-02T11:21:45.342Z"
   },
   {
    "duration": 200,
    "start_time": "2022-08-02T11:21:45.593Z"
   },
   {
    "duration": 16,
    "start_time": "2022-08-02T11:21:45.795Z"
   },
   {
    "duration": 12,
    "start_time": "2022-08-02T11:21:45.813Z"
   },
   {
    "duration": 30,
    "start_time": "2022-08-02T11:21:45.826Z"
   },
   {
    "duration": 14,
    "start_time": "2022-08-02T11:21:45.858Z"
   },
   {
    "duration": 758,
    "start_time": "2022-08-02T11:23:54.151Z"
   },
   {
    "duration": 64,
    "start_time": "2022-08-02T11:24:18.649Z"
   },
   {
    "duration": 757,
    "start_time": "2022-08-02T11:24:23.538Z"
   },
   {
    "duration": 774,
    "start_time": "2022-08-02T11:24:34.194Z"
   },
   {
    "duration": 79,
    "start_time": "2022-08-02T11:32:47.237Z"
   },
   {
    "duration": 88,
    "start_time": "2022-08-02T11:33:03.847Z"
   },
   {
    "duration": 78,
    "start_time": "2022-08-02T11:33:12.254Z"
   },
   {
    "duration": 91,
    "start_time": "2022-08-02T11:33:23.663Z"
   },
   {
    "duration": 63,
    "start_time": "2022-08-02T11:33:59.393Z"
   },
   {
    "duration": 66,
    "start_time": "2022-08-02T11:34:56.649Z"
   },
   {
    "duration": 59,
    "start_time": "2022-08-02T11:35:07.037Z"
   },
   {
    "duration": 56,
    "start_time": "2022-08-02T11:35:11.141Z"
   },
   {
    "duration": 50,
    "start_time": "2022-08-02T11:36:07.643Z"
   },
   {
    "duration": 52,
    "start_time": "2022-08-02T11:36:14.092Z"
   },
   {
    "duration": 48,
    "start_time": "2022-08-02T11:36:22.513Z"
   },
   {
    "duration": 784,
    "start_time": "2022-08-02T11:36:24.752Z"
   },
   {
    "duration": 779,
    "start_time": "2022-08-02T11:36:29.912Z"
   },
   {
    "duration": 760,
    "start_time": "2022-08-02T11:36:50.214Z"
   },
   {
    "duration": 783,
    "start_time": "2022-08-02T11:37:13.230Z"
   },
   {
    "duration": 848,
    "start_time": "2022-08-02T11:37:28.590Z"
   },
   {
    "duration": 764,
    "start_time": "2022-08-02T11:37:41.337Z"
   },
   {
    "duration": 842,
    "start_time": "2022-08-02T11:38:05.239Z"
   },
   {
    "duration": 773,
    "start_time": "2022-08-02T11:38:12.666Z"
   },
   {
    "duration": 768,
    "start_time": "2022-08-02T11:40:51.538Z"
   },
   {
    "duration": 774,
    "start_time": "2022-08-02T11:42:22.638Z"
   },
   {
    "duration": 742,
    "start_time": "2022-08-02T11:43:35.074Z"
   },
   {
    "duration": 761,
    "start_time": "2022-08-02T11:43:45.143Z"
   },
   {
    "duration": 776,
    "start_time": "2022-08-02T11:44:21.542Z"
   },
   {
    "duration": 157,
    "start_time": "2022-08-02T11:50:34.927Z"
   },
   {
    "duration": 222,
    "start_time": "2022-08-02T11:51:41.159Z"
   },
   {
    "duration": 160,
    "start_time": "2022-08-02T11:52:00.139Z"
   },
   {
    "duration": 171,
    "start_time": "2022-08-02T11:52:22.910Z"
   },
   {
    "duration": 147,
    "start_time": "2022-08-02T11:52:43.742Z"
   },
   {
    "duration": 172,
    "start_time": "2022-08-02T11:52:50.601Z"
   },
   {
    "duration": 5,
    "start_time": "2022-08-02T11:53:04.245Z"
   },
   {
    "duration": 6,
    "start_time": "2022-08-02T11:53:37.745Z"
   },
   {
    "duration": 9,
    "start_time": "2022-08-02T11:53:49.812Z"
   },
   {
    "duration": 59,
    "start_time": "2022-08-02T11:54:05.869Z"
   },
   {
    "duration": 105,
    "start_time": "2022-08-02T11:54:10.662Z"
   },
   {
    "duration": 14,
    "start_time": "2022-08-02T11:54:14.641Z"
   },
   {
    "duration": 6,
    "start_time": "2022-08-02T11:54:24.696Z"
   },
   {
    "duration": 12,
    "start_time": "2022-08-02T11:54:45.087Z"
   },
   {
    "duration": 6,
    "start_time": "2022-08-02T11:55:02.240Z"
   },
   {
    "duration": 160,
    "start_time": "2022-08-02T11:55:23.674Z"
   },
   {
    "duration": 6,
    "start_time": "2022-08-02T11:55:44.112Z"
   },
   {
    "duration": 15,
    "start_time": "2022-08-02T11:58:21.444Z"
   },
   {
    "duration": 7,
    "start_time": "2022-08-02T11:58:45.915Z"
   },
   {
    "duration": 10,
    "start_time": "2022-08-02T11:58:54.382Z"
   },
   {
    "duration": 6,
    "start_time": "2022-08-02T11:59:14.660Z"
   },
   {
    "duration": 12,
    "start_time": "2022-08-02T11:59:28.742Z"
   },
   {
    "duration": 137,
    "start_time": "2022-08-02T11:59:42.687Z"
   },
   {
    "duration": 137,
    "start_time": "2022-08-02T12:00:23.602Z"
   },
   {
    "duration": 159,
    "start_time": "2022-08-02T12:00:59.762Z"
   },
   {
    "duration": 154,
    "start_time": "2022-08-02T12:01:20.510Z"
   },
   {
    "duration": 164,
    "start_time": "2022-08-02T12:02:12.299Z"
   },
   {
    "duration": 238,
    "start_time": "2022-08-02T12:02:20.774Z"
   },
   {
    "duration": 158,
    "start_time": "2022-08-02T12:05:03.840Z"
   },
   {
    "duration": 1182,
    "start_time": "2022-08-02T12:31:11.545Z"
   },
   {
    "duration": 27,
    "start_time": "2022-08-02T12:31:12.729Z"
   },
   {
    "duration": 14,
    "start_time": "2022-08-02T12:31:12.758Z"
   },
   {
    "duration": 20,
    "start_time": "2022-08-02T12:31:12.773Z"
   },
   {
    "duration": 16,
    "start_time": "2022-08-02T12:31:12.796Z"
   },
   {
    "duration": 38,
    "start_time": "2022-08-02T12:31:12.814Z"
   },
   {
    "duration": 23,
    "start_time": "2022-08-02T12:31:12.854Z"
   },
   {
    "duration": 14,
    "start_time": "2022-08-02T12:31:12.879Z"
   },
   {
    "duration": 14,
    "start_time": "2022-08-02T12:31:12.895Z"
   },
   {
    "duration": 8,
    "start_time": "2022-08-02T12:31:12.911Z"
   },
   {
    "duration": 9,
    "start_time": "2022-08-02T12:31:12.921Z"
   },
   {
    "duration": 12,
    "start_time": "2022-08-02T12:31:12.932Z"
   },
   {
    "duration": 794,
    "start_time": "2022-08-02T12:31:12.946Z"
   },
   {
    "duration": 25,
    "start_time": "2022-08-02T12:31:13.744Z"
   },
   {
    "duration": 25,
    "start_time": "2022-08-02T12:31:13.771Z"
   },
   {
    "duration": 18,
    "start_time": "2022-08-02T12:31:13.798Z"
   },
   {
    "duration": 8,
    "start_time": "2022-08-02T12:31:13.818Z"
   },
   {
    "duration": 10,
    "start_time": "2022-08-02T12:31:13.828Z"
   },
   {
    "duration": 11,
    "start_time": "2022-08-02T12:31:13.840Z"
   },
   {
    "duration": 331,
    "start_time": "2022-08-02T12:31:13.853Z"
   },
   {
    "duration": 311,
    "start_time": "2022-08-02T12:31:14.186Z"
   },
   {
    "duration": 10,
    "start_time": "2022-08-02T12:31:14.502Z"
   },
   {
    "duration": 241,
    "start_time": "2022-08-02T12:31:14.514Z"
   },
   {
    "duration": 315,
    "start_time": "2022-08-02T12:31:14.757Z"
   },
   {
    "duration": 236,
    "start_time": "2022-08-02T12:31:15.074Z"
   },
   {
    "duration": 338,
    "start_time": "2022-08-02T12:31:15.312Z"
   },
   {
    "duration": 15,
    "start_time": "2022-08-02T12:31:15.652Z"
   },
   {
    "duration": 175,
    "start_time": "2022-08-02T12:31:15.668Z"
   },
   {
    "duration": 6,
    "start_time": "2022-08-02T12:31:15.845Z"
   },
   {
    "duration": 21,
    "start_time": "2022-08-02T12:31:15.853Z"
   },
   {
    "duration": 187,
    "start_time": "2022-08-02T12:31:15.876Z"
   },
   {
    "duration": 175,
    "start_time": "2022-08-02T12:31:16.065Z"
   },
   {
    "duration": 5,
    "start_time": "2022-08-02T12:31:16.243Z"
   },
   {
    "duration": 263,
    "start_time": "2022-08-02T12:31:16.250Z"
   },
   {
    "duration": 201,
    "start_time": "2022-08-02T12:31:16.515Z"
   },
   {
    "duration": 11,
    "start_time": "2022-08-02T12:31:16.718Z"
   },
   {
    "duration": 27,
    "start_time": "2022-08-02T12:31:16.731Z"
   },
   {
    "duration": 53,
    "start_time": "2022-08-02T12:31:16.761Z"
   },
   {
    "duration": 16,
    "start_time": "2022-08-02T12:31:16.816Z"
   },
   {
    "duration": 1320,
    "start_time": "2022-08-02T15:44:43.423Z"
   },
   {
    "duration": 68,
    "start_time": "2022-08-02T15:44:44.745Z"
   },
   {
    "duration": 13,
    "start_time": "2022-08-02T15:44:44.815Z"
   },
   {
    "duration": 12,
    "start_time": "2022-08-02T15:44:44.830Z"
   },
   {
    "duration": 10,
    "start_time": "2022-08-02T15:44:44.845Z"
   },
   {
    "duration": 75,
    "start_time": "2022-08-02T15:44:44.856Z"
   },
   {
    "duration": 21,
    "start_time": "2022-08-02T15:44:44.933Z"
   },
   {
    "duration": 11,
    "start_time": "2022-08-02T15:44:44.956Z"
   },
   {
    "duration": 7,
    "start_time": "2022-08-02T15:44:44.969Z"
   },
   {
    "duration": 6,
    "start_time": "2022-08-02T15:44:44.978Z"
   },
   {
    "duration": 7,
    "start_time": "2022-08-02T15:44:44.986Z"
   },
   {
    "duration": 15,
    "start_time": "2022-08-02T15:44:44.994Z"
   },
   {
    "duration": 692,
    "start_time": "2022-08-02T15:44:45.012Z"
   },
   {
    "duration": 48,
    "start_time": "2022-08-02T15:44:45.707Z"
   },
   {
    "duration": 17,
    "start_time": "2022-08-02T15:44:45.756Z"
   },
   {
    "duration": 9,
    "start_time": "2022-08-02T15:44:45.775Z"
   },
   {
    "duration": 4,
    "start_time": "2022-08-02T15:44:45.786Z"
   },
   {
    "duration": 11,
    "start_time": "2022-08-02T15:44:45.792Z"
   },
   {
    "duration": 11,
    "start_time": "2022-08-02T15:44:45.805Z"
   },
   {
    "duration": 279,
    "start_time": "2022-08-02T15:44:45.817Z"
   },
   {
    "duration": 264,
    "start_time": "2022-08-02T15:44:46.100Z"
   },
   {
    "duration": 10,
    "start_time": "2022-08-02T15:44:46.366Z"
   },
   {
    "duration": 201,
    "start_time": "2022-08-02T15:44:46.377Z"
   },
   {
    "duration": 353,
    "start_time": "2022-08-02T15:44:46.580Z"
   },
   {
    "duration": 200,
    "start_time": "2022-08-02T15:44:46.935Z"
   },
   {
    "duration": 275,
    "start_time": "2022-08-02T15:44:47.137Z"
   },
   {
    "duration": 12,
    "start_time": "2022-08-02T15:44:47.414Z"
   },
   {
    "duration": 147,
    "start_time": "2022-08-02T15:44:47.428Z"
   },
   {
    "duration": 4,
    "start_time": "2022-08-02T15:44:47.577Z"
   },
   {
    "duration": 32,
    "start_time": "2022-08-02T15:44:47.583Z"
   },
   {
    "duration": 175,
    "start_time": "2022-08-02T15:44:47.616Z"
   },
   {
    "duration": 147,
    "start_time": "2022-08-02T15:44:47.792Z"
   },
   {
    "duration": 4,
    "start_time": "2022-08-02T15:44:47.941Z"
   },
   {
    "duration": 225,
    "start_time": "2022-08-02T15:44:47.947Z"
   },
   {
    "duration": 170,
    "start_time": "2022-08-02T15:44:48.175Z"
   },
   {
    "duration": 9,
    "start_time": "2022-08-02T15:44:48.346Z"
   },
   {
    "duration": 32,
    "start_time": "2022-08-02T15:44:48.357Z"
   },
   {
    "duration": 37,
    "start_time": "2022-08-02T15:44:48.391Z"
   },
   {
    "duration": 14,
    "start_time": "2022-08-02T15:44:48.431Z"
   },
   {
    "duration": 111,
    "start_time": "2022-08-03T10:11:03.422Z"
   },
   {
    "duration": 1294,
    "start_time": "2022-08-03T10:11:15.738Z"
   },
   {
    "duration": 68,
    "start_time": "2022-08-03T10:11:17.034Z"
   },
   {
    "duration": 19,
    "start_time": "2022-08-03T10:11:17.104Z"
   },
   {
    "duration": 15,
    "start_time": "2022-08-03T10:11:17.127Z"
   },
   {
    "duration": 11,
    "start_time": "2022-08-03T10:11:17.144Z"
   },
   {
    "duration": 85,
    "start_time": "2022-08-03T10:11:17.157Z"
   },
   {
    "duration": 24,
    "start_time": "2022-08-03T10:11:17.243Z"
   },
   {
    "duration": 19,
    "start_time": "2022-08-03T10:11:17.269Z"
   },
   {
    "duration": 26,
    "start_time": "2022-08-03T10:11:17.292Z"
   },
   {
    "duration": 8,
    "start_time": "2022-08-03T10:11:17.322Z"
   },
   {
    "duration": 13,
    "start_time": "2022-08-03T10:11:17.331Z"
   },
   {
    "duration": 10,
    "start_time": "2022-08-03T10:11:17.346Z"
   },
   {
    "duration": 757,
    "start_time": "2022-08-03T10:11:17.357Z"
   },
   {
    "duration": 60,
    "start_time": "2022-08-03T10:11:18.115Z"
   },
   {
    "duration": 23,
    "start_time": "2022-08-03T10:11:18.177Z"
   },
   {
    "duration": 22,
    "start_time": "2022-08-03T10:11:18.201Z"
   },
   {
    "duration": 12,
    "start_time": "2022-08-03T10:11:18.225Z"
   },
   {
    "duration": 14,
    "start_time": "2022-08-03T10:11:18.238Z"
   },
   {
    "duration": 12,
    "start_time": "2022-08-03T10:11:18.254Z"
   },
   {
    "duration": 337,
    "start_time": "2022-08-03T10:11:18.269Z"
   },
   {
    "duration": 314,
    "start_time": "2022-08-03T10:11:18.608Z"
   },
   {
    "duration": 13,
    "start_time": "2022-08-03T10:11:18.924Z"
   },
   {
    "duration": 226,
    "start_time": "2022-08-03T10:11:18.939Z"
   },
   {
    "duration": 351,
    "start_time": "2022-08-03T10:11:19.167Z"
   },
   {
    "duration": 221,
    "start_time": "2022-08-03T10:11:19.520Z"
   },
   {
    "duration": 311,
    "start_time": "2022-08-03T10:11:19.743Z"
   },
   {
    "duration": 15,
    "start_time": "2022-08-03T10:11:20.056Z"
   },
   {
    "duration": 144,
    "start_time": "2022-08-03T10:11:20.088Z"
   },
   {
    "duration": 7,
    "start_time": "2022-08-03T10:11:20.233Z"
   },
   {
    "duration": 14,
    "start_time": "2022-08-03T10:11:20.242Z"
   },
   {
    "duration": 178,
    "start_time": "2022-08-03T10:11:20.257Z"
   },
   {
    "duration": 160,
    "start_time": "2022-08-03T10:11:20.437Z"
   },
   {
    "duration": 9,
    "start_time": "2022-08-03T10:11:20.598Z"
   },
   {
    "duration": 167,
    "start_time": "2022-08-03T10:11:20.609Z"
   },
   {
    "duration": 16,
    "start_time": "2022-08-03T10:11:20.778Z"
   },
   {
    "duration": 24,
    "start_time": "2022-08-03T10:11:20.799Z"
   },
   {
    "duration": 143,
    "start_time": "2022-08-03T10:11:20.825Z"
   },
   {
    "duration": 0,
    "start_time": "2022-08-03T10:11:20.970Z"
   },
   {
    "duration": 1287,
    "start_time": "2022-08-04T12:10:42.067Z"
   },
   {
    "duration": 85,
    "start_time": "2022-08-04T12:10:43.356Z"
   },
   {
    "duration": 12,
    "start_time": "2022-08-04T12:10:43.443Z"
   },
   {
    "duration": 17,
    "start_time": "2022-08-04T12:10:43.456Z"
   },
   {
    "duration": 12,
    "start_time": "2022-08-04T12:10:43.475Z"
   },
   {
    "duration": 171,
    "start_time": "2022-08-04T12:10:43.489Z"
   },
   {
    "duration": 18,
    "start_time": "2022-08-04T12:10:43.662Z"
   },
   {
    "duration": 38,
    "start_time": "2022-08-04T12:10:43.682Z"
   },
   {
    "duration": 13,
    "start_time": "2022-08-04T12:10:43.722Z"
   },
   {
    "duration": 5,
    "start_time": "2022-08-04T12:10:43.737Z"
   },
   {
    "duration": 18,
    "start_time": "2022-08-04T12:10:43.743Z"
   },
   {
    "duration": 10,
    "start_time": "2022-08-04T12:10:43.762Z"
   },
   {
    "duration": 813,
    "start_time": "2022-08-04T12:10:43.773Z"
   },
   {
    "duration": 82,
    "start_time": "2022-08-04T12:10:44.590Z"
   },
   {
    "duration": 23,
    "start_time": "2022-08-04T12:10:44.674Z"
   },
   {
    "duration": 51,
    "start_time": "2022-08-04T12:10:44.699Z"
   },
   {
    "duration": 15,
    "start_time": "2022-08-04T12:10:44.751Z"
   },
   {
    "duration": 9,
    "start_time": "2022-08-04T12:10:44.768Z"
   },
   {
    "duration": 12,
    "start_time": "2022-08-04T12:10:44.778Z"
   },
   {
    "duration": 378,
    "start_time": "2022-08-04T12:10:44.792Z"
   },
   {
    "duration": 354,
    "start_time": "2022-08-04T12:10:45.172Z"
   },
   {
    "duration": 10,
    "start_time": "2022-08-04T12:10:45.531Z"
   },
   {
    "duration": 223,
    "start_time": "2022-08-04T12:10:45.543Z"
   },
   {
    "duration": 376,
    "start_time": "2022-08-04T12:10:45.769Z"
   },
   {
    "duration": 218,
    "start_time": "2022-08-04T12:10:46.146Z"
   },
   {
    "duration": 326,
    "start_time": "2022-08-04T12:10:46.366Z"
   },
   {
    "duration": 19,
    "start_time": "2022-08-04T12:10:46.701Z"
   },
   {
    "duration": 164,
    "start_time": "2022-08-04T12:10:46.722Z"
   },
   {
    "duration": 5,
    "start_time": "2022-08-04T12:10:46.887Z"
   },
   {
    "duration": 47,
    "start_time": "2022-08-04T12:10:46.905Z"
   },
   {
    "duration": 178,
    "start_time": "2022-08-04T12:10:46.954Z"
   },
   {
    "duration": 174,
    "start_time": "2022-08-04T12:10:47.134Z"
   },
   {
    "duration": 16,
    "start_time": "2022-08-04T12:10:47.310Z"
   },
   {
    "duration": 197,
    "start_time": "2022-08-04T12:10:47.328Z"
   },
   {
    "duration": 11,
    "start_time": "2022-08-04T12:10:47.526Z"
   },
   {
    "duration": 11,
    "start_time": "2022-08-04T12:10:47.538Z"
   },
   {
    "duration": 130,
    "start_time": "2022-08-04T12:10:47.550Z"
   },
   {
    "duration": 0,
    "start_time": "2022-08-04T12:10:47.681Z"
   },
   {
    "duration": 19,
    "start_time": "2022-08-04T12:12:04.321Z"
   },
   {
    "duration": 1032,
    "start_time": "2022-08-04T12:12:10.661Z"
   },
   {
    "duration": 32,
    "start_time": "2022-08-04T12:12:11.695Z"
   },
   {
    "duration": 13,
    "start_time": "2022-08-04T12:12:11.728Z"
   },
   {
    "duration": 14,
    "start_time": "2022-08-04T12:12:11.743Z"
   },
   {
    "duration": 9,
    "start_time": "2022-08-04T12:12:11.759Z"
   },
   {
    "duration": 55,
    "start_time": "2022-08-04T12:12:11.770Z"
   },
   {
    "duration": 19,
    "start_time": "2022-08-04T12:12:11.826Z"
   },
   {
    "duration": 12,
    "start_time": "2022-08-04T12:12:11.847Z"
   },
   {
    "duration": 7,
    "start_time": "2022-08-04T12:12:11.860Z"
   },
   {
    "duration": 6,
    "start_time": "2022-08-04T12:12:11.869Z"
   },
   {
    "duration": 6,
    "start_time": "2022-08-04T12:12:11.877Z"
   },
   {
    "duration": 31,
    "start_time": "2022-08-04T12:12:11.885Z"
   },
   {
    "duration": 796,
    "start_time": "2022-08-04T12:12:11.918Z"
   },
   {
    "duration": 28,
    "start_time": "2022-08-04T12:12:12.717Z"
   },
   {
    "duration": 16,
    "start_time": "2022-08-04T12:12:12.747Z"
   },
   {
    "duration": 11,
    "start_time": "2022-08-04T12:12:12.765Z"
   },
   {
    "duration": 13,
    "start_time": "2022-08-04T12:12:12.777Z"
   },
   {
    "duration": 18,
    "start_time": "2022-08-04T12:12:12.792Z"
   },
   {
    "duration": 20,
    "start_time": "2022-08-04T12:12:12.815Z"
   },
   {
    "duration": 310,
    "start_time": "2022-08-04T12:12:12.836Z"
   },
   {
    "duration": 317,
    "start_time": "2022-08-04T12:12:13.148Z"
   },
   {
    "duration": 10,
    "start_time": "2022-08-04T12:12:13.466Z"
   },
   {
    "duration": 246,
    "start_time": "2022-08-04T12:12:13.478Z"
   },
   {
    "duration": 317,
    "start_time": "2022-08-04T12:12:13.726Z"
   },
   {
    "duration": 228,
    "start_time": "2022-08-04T12:12:14.045Z"
   },
   {
    "duration": 358,
    "start_time": "2022-08-04T12:12:14.275Z"
   },
   {
    "duration": 16,
    "start_time": "2022-08-04T12:12:14.635Z"
   },
   {
    "duration": 182,
    "start_time": "2022-08-04T12:12:14.653Z"
   },
   {
    "duration": 6,
    "start_time": "2022-08-04T12:12:14.837Z"
   },
   {
    "duration": 37,
    "start_time": "2022-08-04T12:12:14.844Z"
   },
   {
    "duration": 186,
    "start_time": "2022-08-04T12:12:14.883Z"
   },
   {
    "duration": 178,
    "start_time": "2022-08-04T12:12:15.072Z"
   },
   {
    "duration": 6,
    "start_time": "2022-08-04T12:12:15.252Z"
   },
   {
    "duration": 202,
    "start_time": "2022-08-04T12:12:15.260Z"
   },
   {
    "duration": 10,
    "start_time": "2022-08-04T12:12:15.464Z"
   },
   {
    "duration": 31,
    "start_time": "2022-08-04T12:12:15.476Z"
   },
   {
    "duration": 144,
    "start_time": "2022-08-04T12:12:15.509Z"
   },
   {
    "duration": 0,
    "start_time": "2022-08-04T12:12:15.655Z"
   },
   {
    "duration": 31,
    "start_time": "2022-08-04T12:12:43.523Z"
   },
   {
    "duration": 1106,
    "start_time": "2022-08-04T12:12:53.425Z"
   },
   {
    "duration": 28,
    "start_time": "2022-08-04T12:12:54.534Z"
   },
   {
    "duration": 15,
    "start_time": "2022-08-04T12:12:54.564Z"
   },
   {
    "duration": 23,
    "start_time": "2022-08-04T12:12:54.581Z"
   },
   {
    "duration": 43,
    "start_time": "2022-08-04T12:12:54.605Z"
   },
   {
    "duration": 55,
    "start_time": "2022-08-04T12:12:54.650Z"
   },
   {
    "duration": 25,
    "start_time": "2022-08-04T12:12:54.707Z"
   },
   {
    "duration": 16,
    "start_time": "2022-08-04T12:12:54.735Z"
   },
   {
    "duration": 15,
    "start_time": "2022-08-04T12:12:54.753Z"
   },
   {
    "duration": 32,
    "start_time": "2022-08-04T12:12:54.772Z"
   },
   {
    "duration": 19,
    "start_time": "2022-08-04T12:12:54.806Z"
   },
   {
    "duration": 13,
    "start_time": "2022-08-04T12:12:54.828Z"
   },
   {
    "duration": 787,
    "start_time": "2022-08-04T12:12:54.842Z"
   },
   {
    "duration": 26,
    "start_time": "2022-08-04T12:12:55.631Z"
   },
   {
    "duration": 18,
    "start_time": "2022-08-04T12:12:55.658Z"
   },
   {
    "duration": 11,
    "start_time": "2022-08-04T12:12:55.677Z"
   },
   {
    "duration": 33,
    "start_time": "2022-08-04T12:12:55.689Z"
   },
   {
    "duration": 6,
    "start_time": "2022-08-04T12:12:55.724Z"
   },
   {
    "duration": 14,
    "start_time": "2022-08-04T12:12:55.731Z"
   },
   {
    "duration": 331,
    "start_time": "2022-08-04T12:12:55.746Z"
   },
   {
    "duration": 323,
    "start_time": "2022-08-04T12:12:56.079Z"
   },
   {
    "duration": 16,
    "start_time": "2022-08-04T12:12:56.403Z"
   },
   {
    "duration": 231,
    "start_time": "2022-08-04T12:12:56.422Z"
   },
   {
    "duration": 316,
    "start_time": "2022-08-04T12:12:56.654Z"
   },
   {
    "duration": 240,
    "start_time": "2022-08-04T12:12:56.972Z"
   },
   {
    "duration": 317,
    "start_time": "2022-08-04T12:12:57.213Z"
   },
   {
    "duration": 16,
    "start_time": "2022-08-04T12:12:57.532Z"
   },
   {
    "duration": 190,
    "start_time": "2022-08-04T12:12:57.552Z"
   },
   {
    "duration": 6,
    "start_time": "2022-08-04T12:12:57.743Z"
   },
   {
    "duration": 17,
    "start_time": "2022-08-04T12:12:57.750Z"
   },
   {
    "duration": 197,
    "start_time": "2022-08-04T12:12:57.769Z"
   },
   {
    "duration": 183,
    "start_time": "2022-08-04T12:12:57.968Z"
   },
   {
    "duration": 5,
    "start_time": "2022-08-04T12:12:58.152Z"
   },
   {
    "duration": 180,
    "start_time": "2022-08-04T12:12:58.158Z"
   },
   {
    "duration": 9,
    "start_time": "2022-08-04T12:12:58.340Z"
   },
   {
    "duration": 11,
    "start_time": "2022-08-04T12:12:58.351Z"
   },
   {
    "duration": 51,
    "start_time": "2022-08-04T12:12:58.363Z"
   },
   {
    "duration": 17,
    "start_time": "2022-08-04T12:12:58.420Z"
   },
   {
    "duration": 1135,
    "start_time": "2022-08-04T12:14:19.190Z"
   },
   {
    "duration": 27,
    "start_time": "2022-08-04T12:14:20.328Z"
   },
   {
    "duration": 12,
    "start_time": "2022-08-04T12:14:20.357Z"
   },
   {
    "duration": 14,
    "start_time": "2022-08-04T12:14:20.371Z"
   },
   {
    "duration": 32,
    "start_time": "2022-08-04T12:14:20.386Z"
   },
   {
    "duration": 53,
    "start_time": "2022-08-04T12:14:20.424Z"
   },
   {
    "duration": 26,
    "start_time": "2022-08-04T12:14:20.478Z"
   },
   {
    "duration": 19,
    "start_time": "2022-08-04T12:14:20.517Z"
   },
   {
    "duration": 11,
    "start_time": "2022-08-04T12:14:20.538Z"
   },
   {
    "duration": 6,
    "start_time": "2022-08-04T12:14:20.551Z"
   },
   {
    "duration": 14,
    "start_time": "2022-08-04T12:14:20.558Z"
   },
   {
    "duration": 13,
    "start_time": "2022-08-04T12:14:20.574Z"
   },
   {
    "duration": 779,
    "start_time": "2022-08-04T12:14:20.589Z"
   },
   {
    "duration": 25,
    "start_time": "2022-08-04T12:14:21.369Z"
   },
   {
    "duration": 33,
    "start_time": "2022-08-04T12:14:21.396Z"
   },
   {
    "duration": 11,
    "start_time": "2022-08-04T12:14:21.431Z"
   },
   {
    "duration": 8,
    "start_time": "2022-08-04T12:14:21.443Z"
   },
   {
    "duration": 7,
    "start_time": "2022-08-04T12:14:21.452Z"
   },
   {
    "duration": 12,
    "start_time": "2022-08-04T12:14:21.460Z"
   },
   {
    "duration": 323,
    "start_time": "2022-08-04T12:14:21.474Z"
   },
   {
    "duration": 334,
    "start_time": "2022-08-04T12:14:21.799Z"
   },
   {
    "duration": 10,
    "start_time": "2022-08-04T12:14:22.134Z"
   },
   {
    "duration": 230,
    "start_time": "2022-08-04T12:14:22.146Z"
   },
   {
    "duration": 356,
    "start_time": "2022-08-04T12:14:22.377Z"
   },
   {
    "duration": 224,
    "start_time": "2022-08-04T12:14:22.734Z"
   },
   {
    "duration": 281,
    "start_time": "2022-08-04T12:14:22.959Z"
   },
   {
    "duration": 12,
    "start_time": "2022-08-04T12:14:23.242Z"
   },
   {
    "duration": 164,
    "start_time": "2022-08-04T12:14:23.257Z"
   },
   {
    "duration": 6,
    "start_time": "2022-08-04T12:14:23.423Z"
   },
   {
    "duration": 16,
    "start_time": "2022-08-04T12:14:23.430Z"
   },
   {
    "duration": 193,
    "start_time": "2022-08-04T12:14:23.448Z"
   },
   {
    "duration": 182,
    "start_time": "2022-08-04T12:14:23.643Z"
   },
   {
    "duration": 6,
    "start_time": "2022-08-04T12:14:23.827Z"
   },
   {
    "duration": 204,
    "start_time": "2022-08-04T12:14:23.835Z"
   },
   {
    "duration": 10,
    "start_time": "2022-08-04T12:14:24.041Z"
   },
   {
    "duration": 14,
    "start_time": "2022-08-04T12:14:24.053Z"
   },
   {
    "duration": 75,
    "start_time": "2022-08-04T12:14:24.069Z"
   },
   {
    "duration": 16,
    "start_time": "2022-08-04T12:14:24.146Z"
   }
  ],
  "celltoolbar": "Отсутствует",
  "kernelspec": {
   "display_name": "Python 3 (ipykernel)",
   "language": "python",
   "name": "python3"
  },
  "language_info": {
   "codemirror_mode": {
    "name": "ipython",
    "version": 3
   },
   "file_extension": ".py",
   "mimetype": "text/x-python",
   "name": "python",
   "nbconvert_exporter": "python",
   "pygments_lexer": "ipython3",
   "version": "3.9.12"
  },
  "toc": {
   "base_numbering": 1,
   "nav_menu": {},
   "number_sections": false,
   "sideBar": true,
   "skip_h1_title": true,
   "title_cell": "Table of Contents",
   "title_sidebar": "Contents",
   "toc_cell": false,
   "toc_position": {
    "height": "calc(100% - 180px)",
    "left": "10px",
    "top": "150px",
    "width": "291.288px"
   },
   "toc_section_display": true,
   "toc_window_display": true
  }
 },
 "nbformat": 4,
 "nbformat_minor": 2
}
